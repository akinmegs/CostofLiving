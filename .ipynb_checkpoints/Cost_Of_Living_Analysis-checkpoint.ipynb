{
 "cells": [
  {
   "cell_type": "code",
   "execution_count": 62,
   "id": "fc11a085",
   "metadata": {},
   "outputs": [
    {
     "name": "stdout",
     "output_type": "stream",
     "text": [
      "Requirement already satisfied: country_converter in c:\\users\\akinmegs\\anaconda3\\lib\\site-packages (1.0.0)\n",
      "Requirement already satisfied: pandas>=1.0 in c:\\users\\akinmegs\\anaconda3\\lib\\site-packages (from country_converter) (1.5.3)\n",
      "Requirement already satisfied: python-dateutil>=2.8.1 in c:\\users\\akinmegs\\anaconda3\\lib\\site-packages (from pandas>=1.0->country_converter) (2.8.2)\n",
      "Requirement already satisfied: pytz>=2020.1 in c:\\users\\akinmegs\\anaconda3\\lib\\site-packages (from pandas>=1.0->country_converter) (2022.7)\n",
      "Requirement already satisfied: numpy>=1.21.0 in c:\\users\\akinmegs\\anaconda3\\lib\\site-packages (from pandas>=1.0->country_converter) (1.24.3)\n",
      "Requirement already satisfied: six>=1.5 in c:\\users\\akinmegs\\anaconda3\\lib\\site-packages (from python-dateutil>=2.8.1->pandas>=1.0->country_converter) (1.16.0)\n"
     ]
    }
   ],
   "source": [
    "! pip install country_converter --upgrade"
   ]
  },
  {
   "cell_type": "code",
   "execution_count": 63,
   "id": "dcae4b58",
   "metadata": {},
   "outputs": [],
   "source": [
    "import pandas as pd\n",
    "import numpy as np\n",
    "import matplotlib.pyplot as plt\n",
    "import seaborn as sns\n",
    "from scipy.stats import spearmanr\n",
    "import statsmodels.api as sm\n",
    "import plotly.express as px\n",
    "import plotly.graph_objects as go\n",
    "from sklearn.preprocessing import LabelEncoder\n",
    "import country_converter as coco"
   ]
  },
  {
   "cell_type": "code",
   "execution_count": 64,
   "id": "319682bc",
   "metadata": {},
   "outputs": [],
   "source": [
    "#Load the dataset\n",
    "data =pd.read_csv('cost_of_living.csv')"
   ]
  },
  {
   "cell_type": "code",
   "execution_count": 65,
   "id": "a0a26ddb",
   "metadata": {},
   "outputs": [
    {
     "data": {
      "text/html": [
       "<div>\n",
       "<style scoped>\n",
       "    .dataframe tbody tr th:only-of-type {\n",
       "        vertical-align: middle;\n",
       "    }\n",
       "\n",
       "    .dataframe tbody tr th {\n",
       "        vertical-align: top;\n",
       "    }\n",
       "\n",
       "    .dataframe thead th {\n",
       "        text-align: right;\n",
       "    }\n",
       "</style>\n",
       "<table border=\"1\" class=\"dataframe\">\n",
       "  <thead>\n",
       "    <tr style=\"text-align: right;\">\n",
       "      <th></th>\n",
       "      <th>Countries</th>\n",
       "      <th>Cost of living, 2017</th>\n",
       "      <th>Global rank</th>\n",
       "      <th>Available data</th>\n",
       "    </tr>\n",
       "  </thead>\n",
       "  <tbody>\n",
       "    <tr>\n",
       "      <th>0</th>\n",
       "      <td>Bermuda</td>\n",
       "      <td>225.86</td>\n",
       "      <td>1</td>\n",
       "      <td>2017 - 2017</td>\n",
       "    </tr>\n",
       "    <tr>\n",
       "      <th>1</th>\n",
       "      <td>Iceland</td>\n",
       "      <td>209.10</td>\n",
       "      <td>2</td>\n",
       "      <td>2017 - 2017</td>\n",
       "    </tr>\n",
       "    <tr>\n",
       "      <th>2</th>\n",
       "      <td>Switzerland</td>\n",
       "      <td>197.89</td>\n",
       "      <td>3</td>\n",
       "      <td>2017 - 2017</td>\n",
       "    </tr>\n",
       "    <tr>\n",
       "      <th>3</th>\n",
       "      <td>Norway</td>\n",
       "      <td>186.52</td>\n",
       "      <td>4</td>\n",
       "      <td>2017 - 2017</td>\n",
       "    </tr>\n",
       "    <tr>\n",
       "      <th>4</th>\n",
       "      <td>Denmark</td>\n",
       "      <td>171.78</td>\n",
       "      <td>5</td>\n",
       "      <td>2017 - 2017</td>\n",
       "    </tr>\n",
       "    <tr>\n",
       "      <th>...</th>\n",
       "      <td>...</td>\n",
       "      <td>...</td>\n",
       "      <td>...</td>\n",
       "      <td>...</td>\n",
       "    </tr>\n",
       "    <tr>\n",
       "      <th>162</th>\n",
       "      <td>Azerbaijan</td>\n",
       "      <td>40.56</td>\n",
       "      <td>163</td>\n",
       "      <td>2017 - 2017</td>\n",
       "    </tr>\n",
       "    <tr>\n",
       "      <th>163</th>\n",
       "      <td>Kyrgyzstan</td>\n",
       "      <td>40.38</td>\n",
       "      <td>164</td>\n",
       "      <td>2017 - 2017</td>\n",
       "    </tr>\n",
       "    <tr>\n",
       "      <th>164</th>\n",
       "      <td>Sudan</td>\n",
       "      <td>38.29</td>\n",
       "      <td>165</td>\n",
       "      <td>2017 - 2017</td>\n",
       "    </tr>\n",
       "    <tr>\n",
       "      <th>165</th>\n",
       "      <td>Ukraine</td>\n",
       "      <td>37.76</td>\n",
       "      <td>166</td>\n",
       "      <td>2017 - 2017</td>\n",
       "    </tr>\n",
       "    <tr>\n",
       "      <th>166</th>\n",
       "      <td>Egypt</td>\n",
       "      <td>27.37</td>\n",
       "      <td>167</td>\n",
       "      <td>2017 - 2017</td>\n",
       "    </tr>\n",
       "  </tbody>\n",
       "</table>\n",
       "<p>167 rows × 4 columns</p>\n",
       "</div>"
      ],
      "text/plain": [
       "       Countries  Cost of living, 2017  Global rank Available data\n",
       "0        Bermuda                225.86            1    2017 - 2017\n",
       "1        Iceland                209.10            2    2017 - 2017\n",
       "2    Switzerland                197.89            3    2017 - 2017\n",
       "3         Norway                186.52            4    2017 - 2017\n",
       "4        Denmark                171.78            5    2017 - 2017\n",
       "..           ...                   ...          ...            ...\n",
       "162   Azerbaijan                 40.56          163    2017 - 2017\n",
       "163   Kyrgyzstan                 40.38          164    2017 - 2017\n",
       "164        Sudan                 38.29          165    2017 - 2017\n",
       "165      Ukraine                 37.76          166    2017 - 2017\n",
       "166        Egypt                 27.37          167    2017 - 2017\n",
       "\n",
       "[167 rows x 4 columns]"
      ]
     },
     "execution_count": 65,
     "metadata": {},
     "output_type": "execute_result"
    }
   ],
   "source": [
    "data"
   ]
  },
  {
   "cell_type": "code",
   "execution_count": 66,
   "id": "f22408e9",
   "metadata": {},
   "outputs": [
    {
     "data": {
      "text/html": [
       "<div>\n",
       "<style scoped>\n",
       "    .dataframe tbody tr th:only-of-type {\n",
       "        vertical-align: middle;\n",
       "    }\n",
       "\n",
       "    .dataframe tbody tr th {\n",
       "        vertical-align: top;\n",
       "    }\n",
       "\n",
       "    .dataframe thead th {\n",
       "        text-align: right;\n",
       "    }\n",
       "</style>\n",
       "<table border=\"1\" class=\"dataframe\">\n",
       "  <thead>\n",
       "    <tr style=\"text-align: right;\">\n",
       "      <th></th>\n",
       "      <th>Countries</th>\n",
       "      <th>Cost of living, 2017</th>\n",
       "      <th>Global rank</th>\n",
       "      <th>Available data</th>\n",
       "    </tr>\n",
       "  </thead>\n",
       "  <tbody>\n",
       "    <tr>\n",
       "      <th>0</th>\n",
       "      <td>Bermuda</td>\n",
       "      <td>225.86</td>\n",
       "      <td>1</td>\n",
       "      <td>2017 - 2017</td>\n",
       "    </tr>\n",
       "    <tr>\n",
       "      <th>1</th>\n",
       "      <td>Iceland</td>\n",
       "      <td>209.10</td>\n",
       "      <td>2</td>\n",
       "      <td>2017 - 2017</td>\n",
       "    </tr>\n",
       "    <tr>\n",
       "      <th>2</th>\n",
       "      <td>Switzerland</td>\n",
       "      <td>197.89</td>\n",
       "      <td>3</td>\n",
       "      <td>2017 - 2017</td>\n",
       "    </tr>\n",
       "    <tr>\n",
       "      <th>3</th>\n",
       "      <td>Norway</td>\n",
       "      <td>186.52</td>\n",
       "      <td>4</td>\n",
       "      <td>2017 - 2017</td>\n",
       "    </tr>\n",
       "    <tr>\n",
       "      <th>4</th>\n",
       "      <td>Denmark</td>\n",
       "      <td>171.78</td>\n",
       "      <td>5</td>\n",
       "      <td>2017 - 2017</td>\n",
       "    </tr>\n",
       "  </tbody>\n",
       "</table>\n",
       "</div>"
      ],
      "text/plain": [
       "     Countries  Cost of living, 2017  Global rank Available data\n",
       "0      Bermuda                225.86            1    2017 - 2017\n",
       "1      Iceland                209.10            2    2017 - 2017\n",
       "2  Switzerland                197.89            3    2017 - 2017\n",
       "3       Norway                186.52            4    2017 - 2017\n",
       "4      Denmark                171.78            5    2017 - 2017"
      ]
     },
     "execution_count": 66,
     "metadata": {},
     "output_type": "execute_result"
    }
   ],
   "source": [
    "data.head()"
   ]
  },
  {
   "cell_type": "code",
   "execution_count": 67,
   "id": "1973b57d",
   "metadata": {},
   "outputs": [
    {
     "data": {
      "text/html": [
       "<div>\n",
       "<style scoped>\n",
       "    .dataframe tbody tr th:only-of-type {\n",
       "        vertical-align: middle;\n",
       "    }\n",
       "\n",
       "    .dataframe tbody tr th {\n",
       "        vertical-align: top;\n",
       "    }\n",
       "\n",
       "    .dataframe thead th {\n",
       "        text-align: right;\n",
       "    }\n",
       "</style>\n",
       "<table border=\"1\" class=\"dataframe\">\n",
       "  <thead>\n",
       "    <tr style=\"text-align: right;\">\n",
       "      <th></th>\n",
       "      <th>Countries</th>\n",
       "      <th>Cost of living, 2017</th>\n",
       "      <th>Global rank</th>\n",
       "      <th>Available data</th>\n",
       "    </tr>\n",
       "  </thead>\n",
       "  <tbody>\n",
       "    <tr>\n",
       "      <th>162</th>\n",
       "      <td>Azerbaijan</td>\n",
       "      <td>40.56</td>\n",
       "      <td>163</td>\n",
       "      <td>2017 - 2017</td>\n",
       "    </tr>\n",
       "    <tr>\n",
       "      <th>163</th>\n",
       "      <td>Kyrgyzstan</td>\n",
       "      <td>40.38</td>\n",
       "      <td>164</td>\n",
       "      <td>2017 - 2017</td>\n",
       "    </tr>\n",
       "    <tr>\n",
       "      <th>164</th>\n",
       "      <td>Sudan</td>\n",
       "      <td>38.29</td>\n",
       "      <td>165</td>\n",
       "      <td>2017 - 2017</td>\n",
       "    </tr>\n",
       "    <tr>\n",
       "      <th>165</th>\n",
       "      <td>Ukraine</td>\n",
       "      <td>37.76</td>\n",
       "      <td>166</td>\n",
       "      <td>2017 - 2017</td>\n",
       "    </tr>\n",
       "    <tr>\n",
       "      <th>166</th>\n",
       "      <td>Egypt</td>\n",
       "      <td>27.37</td>\n",
       "      <td>167</td>\n",
       "      <td>2017 - 2017</td>\n",
       "    </tr>\n",
       "  </tbody>\n",
       "</table>\n",
       "</div>"
      ],
      "text/plain": [
       "      Countries  Cost of living, 2017  Global rank Available data\n",
       "162  Azerbaijan                 40.56          163    2017 - 2017\n",
       "163  Kyrgyzstan                 40.38          164    2017 - 2017\n",
       "164       Sudan                 38.29          165    2017 - 2017\n",
       "165     Ukraine                 37.76          166    2017 - 2017\n",
       "166       Egypt                 27.37          167    2017 - 2017"
      ]
     },
     "execution_count": 67,
     "metadata": {},
     "output_type": "execute_result"
    }
   ],
   "source": [
    "data.tail()"
   ]
  },
  {
   "cell_type": "code",
   "execution_count": 48,
   "id": "871ce3a8",
   "metadata": {},
   "outputs": [
    {
     "data": {
      "text/plain": [
       "(167, 4)"
      ]
     },
     "execution_count": 48,
     "metadata": {},
     "output_type": "execute_result"
    }
   ],
   "source": [
    "data.shape"
   ]
  },
  {
   "cell_type": "code",
   "execution_count": 49,
   "id": "d491b176",
   "metadata": {},
   "outputs": [
    {
     "data": {
      "text/plain": [
       "Countries                object\n",
       "Cost of living, 2017    float64\n",
       "Global rank               int64\n",
       "Available data           object\n",
       "dtype: object"
      ]
     },
     "execution_count": 49,
     "metadata": {},
     "output_type": "execute_result"
    }
   ],
   "source": [
    "data.dtypes"
   ]
  },
  {
   "cell_type": "code",
   "execution_count": 50,
   "id": "b0dfb31a",
   "metadata": {},
   "outputs": [
    {
     "data": {
      "text/plain": [
       "Countries               0\n",
       "Cost of living, 2017    0\n",
       "Global rank             0\n",
       "Available data          0\n",
       "dtype: int64"
      ]
     },
     "execution_count": 50,
     "metadata": {},
     "output_type": "execute_result"
    }
   ],
   "source": [
    "data.isnull().sum()"
   ]
  },
  {
   "cell_type": "code",
   "execution_count": 68,
   "id": "14c13cbf",
   "metadata": {},
   "outputs": [
    {
     "name": "stderr",
     "output_type": "stream",
     "text": [
      "C:\\Users\\Akinmegs\\AppData\\Local\\Temp\\ipykernel_7724\\1964999920.py:2: FutureWarning: The default value of regex will change from True to False in a future version.\n",
      "  data['Available data'] = data['Available data'].str.replace(r'\\d{4} - \\d{4}', '2017')\n"
     ]
    }
   ],
   "source": [
    "# Replace the values in the \"Available data\" column with \"2017\"\n",
    "data['Available data'] = data['Available data'].str.replace(r'\\d{4} - \\d{4}', '2017')\n",
    "\n",
    "# Check the resulting DataFrame\n",
    "#print(data.head())"
   ]
  },
  {
   "cell_type": "code",
   "execution_count": 69,
   "id": "59acd80e",
   "metadata": {},
   "outputs": [
    {
     "data": {
      "text/html": [
       "<div>\n",
       "<style scoped>\n",
       "    .dataframe tbody tr th:only-of-type {\n",
       "        vertical-align: middle;\n",
       "    }\n",
       "\n",
       "    .dataframe tbody tr th {\n",
       "        vertical-align: top;\n",
       "    }\n",
       "\n",
       "    .dataframe thead th {\n",
       "        text-align: right;\n",
       "    }\n",
       "</style>\n",
       "<table border=\"1\" class=\"dataframe\">\n",
       "  <thead>\n",
       "    <tr style=\"text-align: right;\">\n",
       "      <th></th>\n",
       "      <th>Countries</th>\n",
       "      <th>Cost of living, 2017</th>\n",
       "      <th>Global rank</th>\n",
       "      <th>Available data</th>\n",
       "    </tr>\n",
       "  </thead>\n",
       "  <tbody>\n",
       "    <tr>\n",
       "      <th>0</th>\n",
       "      <td>Bermuda</td>\n",
       "      <td>225.86</td>\n",
       "      <td>1</td>\n",
       "      <td>2017</td>\n",
       "    </tr>\n",
       "    <tr>\n",
       "      <th>1</th>\n",
       "      <td>Iceland</td>\n",
       "      <td>209.10</td>\n",
       "      <td>2</td>\n",
       "      <td>2017</td>\n",
       "    </tr>\n",
       "    <tr>\n",
       "      <th>2</th>\n",
       "      <td>Switzerland</td>\n",
       "      <td>197.89</td>\n",
       "      <td>3</td>\n",
       "      <td>2017</td>\n",
       "    </tr>\n",
       "    <tr>\n",
       "      <th>3</th>\n",
       "      <td>Norway</td>\n",
       "      <td>186.52</td>\n",
       "      <td>4</td>\n",
       "      <td>2017</td>\n",
       "    </tr>\n",
       "    <tr>\n",
       "      <th>4</th>\n",
       "      <td>Denmark</td>\n",
       "      <td>171.78</td>\n",
       "      <td>5</td>\n",
       "      <td>2017</td>\n",
       "    </tr>\n",
       "    <tr>\n",
       "      <th>...</th>\n",
       "      <td>...</td>\n",
       "      <td>...</td>\n",
       "      <td>...</td>\n",
       "      <td>...</td>\n",
       "    </tr>\n",
       "    <tr>\n",
       "      <th>162</th>\n",
       "      <td>Azerbaijan</td>\n",
       "      <td>40.56</td>\n",
       "      <td>163</td>\n",
       "      <td>2017</td>\n",
       "    </tr>\n",
       "    <tr>\n",
       "      <th>163</th>\n",
       "      <td>Kyrgyzstan</td>\n",
       "      <td>40.38</td>\n",
       "      <td>164</td>\n",
       "      <td>2017</td>\n",
       "    </tr>\n",
       "    <tr>\n",
       "      <th>164</th>\n",
       "      <td>Sudan</td>\n",
       "      <td>38.29</td>\n",
       "      <td>165</td>\n",
       "      <td>2017</td>\n",
       "    </tr>\n",
       "    <tr>\n",
       "      <th>165</th>\n",
       "      <td>Ukraine</td>\n",
       "      <td>37.76</td>\n",
       "      <td>166</td>\n",
       "      <td>2017</td>\n",
       "    </tr>\n",
       "    <tr>\n",
       "      <th>166</th>\n",
       "      <td>Egypt</td>\n",
       "      <td>27.37</td>\n",
       "      <td>167</td>\n",
       "      <td>2017</td>\n",
       "    </tr>\n",
       "  </tbody>\n",
       "</table>\n",
       "<p>167 rows × 4 columns</p>\n",
       "</div>"
      ],
      "text/plain": [
       "       Countries  Cost of living, 2017  Global rank Available data\n",
       "0        Bermuda                225.86            1           2017\n",
       "1        Iceland                209.10            2           2017\n",
       "2    Switzerland                197.89            3           2017\n",
       "3         Norway                186.52            4           2017\n",
       "4        Denmark                171.78            5           2017\n",
       "..           ...                   ...          ...            ...\n",
       "162   Azerbaijan                 40.56          163           2017\n",
       "163   Kyrgyzstan                 40.38          164           2017\n",
       "164        Sudan                 38.29          165           2017\n",
       "165      Ukraine                 37.76          166           2017\n",
       "166        Egypt                 27.37          167           2017\n",
       "\n",
       "[167 rows x 4 columns]"
      ]
     },
     "execution_count": 69,
     "metadata": {},
     "output_type": "execute_result"
    }
   ],
   "source": [
    "data"
   ]
  },
  {
   "cell_type": "code",
   "execution_count": 19,
   "id": "3778d4f1",
   "metadata": {},
   "outputs": [],
   "source": [
    "# Drop the \"Cost of living, 2017\" column\n",
    "#data = data.drop('Cost of living, 2017', axis=1)"
   ]
  },
  {
   "cell_type": "code",
   "execution_count": 14,
   "id": "94a39022",
   "metadata": {},
   "outputs": [
    {
     "data": {
      "text/html": [
       "<div>\n",
       "<style scoped>\n",
       "    .dataframe tbody tr th:only-of-type {\n",
       "        vertical-align: middle;\n",
       "    }\n",
       "\n",
       "    .dataframe tbody tr th {\n",
       "        vertical-align: top;\n",
       "    }\n",
       "\n",
       "    .dataframe thead th {\n",
       "        text-align: right;\n",
       "    }\n",
       "</style>\n",
       "<table border=\"1\" class=\"dataframe\">\n",
       "  <thead>\n",
       "    <tr style=\"text-align: right;\">\n",
       "      <th></th>\n",
       "      <th>Countries</th>\n",
       "      <th>Cost of living, 2017</th>\n",
       "      <th>Global rank</th>\n",
       "      <th>Available data</th>\n",
       "    </tr>\n",
       "  </thead>\n",
       "  <tbody>\n",
       "    <tr>\n",
       "      <th>0</th>\n",
       "      <td>Bermuda</td>\n",
       "      <td>225.86</td>\n",
       "      <td>1</td>\n",
       "      <td>2017</td>\n",
       "    </tr>\n",
       "    <tr>\n",
       "      <th>1</th>\n",
       "      <td>Iceland</td>\n",
       "      <td>209.10</td>\n",
       "      <td>2</td>\n",
       "      <td>2017</td>\n",
       "    </tr>\n",
       "    <tr>\n",
       "      <th>2</th>\n",
       "      <td>Switzerland</td>\n",
       "      <td>197.89</td>\n",
       "      <td>3</td>\n",
       "      <td>2017</td>\n",
       "    </tr>\n",
       "    <tr>\n",
       "      <th>3</th>\n",
       "      <td>Norway</td>\n",
       "      <td>186.52</td>\n",
       "      <td>4</td>\n",
       "      <td>2017</td>\n",
       "    </tr>\n",
       "    <tr>\n",
       "      <th>4</th>\n",
       "      <td>Denmark</td>\n",
       "      <td>171.78</td>\n",
       "      <td>5</td>\n",
       "      <td>2017</td>\n",
       "    </tr>\n",
       "  </tbody>\n",
       "</table>\n",
       "</div>"
      ],
      "text/plain": [
       "     Countries  Cost of living, 2017  Global rank Available data\n",
       "0      Bermuda                225.86            1           2017\n",
       "1      Iceland                209.10            2           2017\n",
       "2  Switzerland                197.89            3           2017\n",
       "3       Norway                186.52            4           2017\n",
       "4      Denmark                171.78            5           2017"
      ]
     },
     "execution_count": 14,
     "metadata": {},
     "output_type": "execute_result"
    }
   ],
   "source": [
    "data.head()"
   ]
  },
  {
   "cell_type": "code",
   "execution_count": 15,
   "id": "adcaadd9",
   "metadata": {},
   "outputs": [
    {
     "data": {
      "text/html": [
       "<div>\n",
       "<style scoped>\n",
       "    .dataframe tbody tr th:only-of-type {\n",
       "        vertical-align: middle;\n",
       "    }\n",
       "\n",
       "    .dataframe tbody tr th {\n",
       "        vertical-align: top;\n",
       "    }\n",
       "\n",
       "    .dataframe thead th {\n",
       "        text-align: right;\n",
       "    }\n",
       "</style>\n",
       "<table border=\"1\" class=\"dataframe\">\n",
       "  <thead>\n",
       "    <tr style=\"text-align: right;\">\n",
       "      <th></th>\n",
       "      <th>count</th>\n",
       "      <th>mean</th>\n",
       "      <th>std</th>\n",
       "      <th>min</th>\n",
       "      <th>25%</th>\n",
       "      <th>50%</th>\n",
       "      <th>75%</th>\n",
       "      <th>max</th>\n",
       "    </tr>\n",
       "  </thead>\n",
       "  <tbody>\n",
       "    <tr>\n",
       "      <th>Cost of living, 2017</th>\n",
       "      <td>167.0</td>\n",
       "      <td>82.922216</td>\n",
       "      <td>38.385231</td>\n",
       "      <td>27.37</td>\n",
       "      <td>55.035</td>\n",
       "      <td>70.08</td>\n",
       "      <td>102.59</td>\n",
       "      <td>225.86</td>\n",
       "    </tr>\n",
       "    <tr>\n",
       "      <th>Global rank</th>\n",
       "      <td>167.0</td>\n",
       "      <td>84.000000</td>\n",
       "      <td>48.352870</td>\n",
       "      <td>1.00</td>\n",
       "      <td>42.500</td>\n",
       "      <td>84.00</td>\n",
       "      <td>125.50</td>\n",
       "      <td>167.00</td>\n",
       "    </tr>\n",
       "  </tbody>\n",
       "</table>\n",
       "</div>"
      ],
      "text/plain": [
       "                      count       mean        std    min     25%    50%  \\\n",
       "Cost of living, 2017  167.0  82.922216  38.385231  27.37  55.035  70.08   \n",
       "Global rank           167.0  84.000000  48.352870   1.00  42.500  84.00   \n",
       "\n",
       "                         75%     max  \n",
       "Cost of living, 2017  102.59  225.86  \n",
       "Global rank           125.50  167.00  "
      ]
     },
     "execution_count": 15,
     "metadata": {},
     "output_type": "execute_result"
    }
   ],
   "source": [
    "data.describe().T"
   ]
  },
  {
   "cell_type": "raw",
   "id": "923534b6",
   "metadata": {},
   "source": [
    "The provided statistics represent descriptive statistics for two columns in your dataset: \"Global rank\" and \"Cost of living\" for a total of 167 data points. Let's interpret these statistics:\n",
    "\n",
    "Global Rank:\n",
    "\n",
    "Count: There are 167 data points in the \"Global rank\" column.\n",
    "Mean: The mean (average) global rank is 84.00, indicating that, on average, the countries in the dataset are ranked 84th in terms of cost of living.\n",
    "\n",
    "Standard Deviation (Std): The standard deviation is approximately 48.35. This measures the dispersion or spread of the global rank values around the mean. A higher standard deviation suggests more variability in the rankings.\n",
    "\n",
    "Min: The minimum global rank is 1.00, indicating that the highest-ranked country in the dataset is ranked first.\n",
    "\n",
    "25%: The 25th percentile rank is 42.50. This means that 25% of the countries have a global rank of 42.50 or lower.\n",
    "\n",
    "Median (50%): The median global rank is 84.00, which is also the same as the mean. This indicates that the dataset is symmetrically distributed.\n",
    "\n",
    "75%: The 75th percentile rank is 125.50. This means that 75% of the countries have a global rank of 125.50 or lower.\n",
    "\n",
    "Max: The maximum global rank is 167.00, indicating that the lowest-ranked country in the dataset is ranked 167th.\n",
    "\n",
    "Cost of Living:\n",
    "\n",
    "Count: There are 167 data points in the \"Cost of living\" column.\n",
    "Mean: The mean cost of living is approximately 82.92. On average, the cost of living in these countries is around 82.92.\n",
    "Standard Deviation (Std): The standard deviation is approximately 38.39. This measures the spread or variability in the cost of living values. A higher standard deviation suggests more variability.\n",
    "Min: The minimum cost of living is 27.37, which is the lowest cost of living among the countries in the dataset.\n",
    "25%: The 25th percentile cost of living is 55.035. This means that 25% of the countries have a cost of living of 55.035 or lower.\n",
    "Median (50%): The median cost of living is 70.08. This is the middle value when all cost of living values are sorted in ascending order.\n",
    "75%: The 75th percentile cost of living is 102.59. This means that 75% of the countries have a cost of living of 102.59 or lower.\n",
    "Max: The maximum cost of living is 225.86, which is the highest cost of living among the countries in the dataset.\n",
    "In summary, these statistics provide a summary of the distribution of global ranks and cost of living values for the countries in your dataset. They help you understand the central tendency, spread, and distribution of these two variables."
   ]
  },
  {
   "cell_type": "code",
   "execution_count": 53,
   "id": "df31fff0",
   "metadata": {},
   "outputs": [
    {
     "data": {
      "text/html": [
       "<div>\n",
       "<style scoped>\n",
       "    .dataframe tbody tr th:only-of-type {\n",
       "        vertical-align: middle;\n",
       "    }\n",
       "\n",
       "    .dataframe tbody tr th {\n",
       "        vertical-align: top;\n",
       "    }\n",
       "\n",
       "    .dataframe thead th {\n",
       "        text-align: right;\n",
       "    }\n",
       "</style>\n",
       "<table border=\"1\" class=\"dataframe\">\n",
       "  <thead>\n",
       "    <tr style=\"text-align: right;\">\n",
       "      <th></th>\n",
       "      <th>Countries</th>\n",
       "      <th>Cost of living, 2017</th>\n",
       "      <th>Global rank</th>\n",
       "      <th>Available data</th>\n",
       "    </tr>\n",
       "  </thead>\n",
       "  <tbody>\n",
       "    <tr>\n",
       "      <th>0</th>\n",
       "      <td>Bermuda</td>\n",
       "      <td>225.86</td>\n",
       "      <td>1</td>\n",
       "      <td>2017</td>\n",
       "    </tr>\n",
       "    <tr>\n",
       "      <th>1</th>\n",
       "      <td>Iceland</td>\n",
       "      <td>209.10</td>\n",
       "      <td>2</td>\n",
       "      <td>2017</td>\n",
       "    </tr>\n",
       "    <tr>\n",
       "      <th>2</th>\n",
       "      <td>Switzerland</td>\n",
       "      <td>197.89</td>\n",
       "      <td>3</td>\n",
       "      <td>2017</td>\n",
       "    </tr>\n",
       "    <tr>\n",
       "      <th>3</th>\n",
       "      <td>Norway</td>\n",
       "      <td>186.52</td>\n",
       "      <td>4</td>\n",
       "      <td>2017</td>\n",
       "    </tr>\n",
       "    <tr>\n",
       "      <th>4</th>\n",
       "      <td>Denmark</td>\n",
       "      <td>171.78</td>\n",
       "      <td>5</td>\n",
       "      <td>2017</td>\n",
       "    </tr>\n",
       "  </tbody>\n",
       "</table>\n",
       "</div>"
      ],
      "text/plain": [
       "     Countries  Cost of living, 2017  Global rank Available data\n",
       "0      Bermuda                225.86            1           2017\n",
       "1      Iceland                209.10            2           2017\n",
       "2  Switzerland                197.89            3           2017\n",
       "3       Norway                186.52            4           2017\n",
       "4      Denmark                171.78            5           2017"
      ]
     },
     "execution_count": 53,
     "metadata": {},
     "output_type": "execute_result"
    }
   ],
   "source": [
    "data.head()"
   ]
  },
  {
   "cell_type": "code",
   "execution_count": 17,
   "id": "391a404e",
   "metadata": {},
   "outputs": [
    {
     "data": {
      "image/png": "[encoded data removed]",
      "text/plain": [
       "<Figure size 1200x600 with 2 Axes>"
      ]
     },
     "metadata": {},
     "output_type": "display_data"
    }
   ],
   "source": [
    "# Data for the top 10 countries\n",
    "top_10_countries = [\"Bermuda\", \"Iceland\", \"Switzerland\", \"Norway\", \"Denmark\", \"Bahamas\", \"Luxembourg\", \"Singapore\", \"Hong Kong\", \"Japan\"]\n",
    "top_10_cost_of_living = [225.86, 209.10, 197.89, 186.52, 171.78, 158.19, 154.69, 153.98, 153.74, 152.37]\n",
    "\n",
    "# Data for the bottom 10 countries\n",
    "bottom_10_countries = [\"Ukraine\", \"Egypt\", \"Nepal\", \"Moldova\", \"Syria\", \"India\", \"Pakistan\", \"Kazakhstan\", \"Tunisia\", \"Nigeria\"]\n",
    "bottom_10_cost_of_living = [37.76, 27.37, 25.96, 25.89, 25.36, 24.93, 24.40, 23.71, 23.64, 22.69]\n",
    "\n",
    "# Create subplots\n",
    "plt.figure(figsize=(12, 6))\n",
    "\n",
    "# Bar chart for the top 10 countries\n",
    "plt.subplot(1, 2, 1)\n",
    "plt.barh(top_10_countries, top_10_cost_of_living, color='skyblue')\n",
    "plt.xlabel('Cost of Living (2017)')\n",
    "plt.title('Top 10 Countries with Highest Cost of Living')\n",
    "\n",
    "# Bar chart for the bottom 10 countries\n",
    "plt.subplot(1, 2, 2)\n",
    "plt.barh(bottom_10_countries, bottom_10_cost_of_living, color='salmon')\n",
    "plt.xlabel('Cost of Living (2017)')\n",
    "plt.title('Bottom 10 Countries with Lowest Cost of Living')\n",
    "\n",
    "# Adjust layout\n",
    "plt.tight_layout()\n",
    "\n",
    "# Display the plots\n",
    "plt.show()"
   ]
  },
  {
   "cell_type": "code",
   "execution_count": null,
   "id": "6634d257",
   "metadata": {},
   "outputs": [],
   "source": []
  },
  {
   "cell_type": "code",
   "execution_count": 22,
   "id": "11cefe1a",
   "metadata": {},
   "outputs": [
    {
     "data": {
      "image/png": "[encoded data removed]",
      "text/plain": [
       "<Figure size 1000x600 with 1 Axes>"
      ]
     },
     "metadata": {},
     "output_type": "display_data"
    }
   ],
   "source": [
    "# Data\n",
    "countries = [\"Bermuda\", \"Iceland\", \"Switzerland\", \"Norway\", \"Denmark\", \"Azerbaijan\", \"Kyrgyzstan\", \"Sudan\", \"Ukraine\", \"Egypt\"]\n",
    "cost_of_living = [225.86, 209.10, 197.89, 186.52, 171.78, 40.56, 40.38, 38.29, 37.76, 27.37]\n",
    "\n",
    "# Create a horizontal bar chart\n",
    "plt.figure(figsize=(10, 6))\n",
    "plt.barh(countries, cost_of_living, color='skyblue')\n",
    "plt.xlabel('Cost of Living (2017)')\n",
    "plt.title('Top 10 Countries by Cost of Living in 2017')\n",
    "plt.gca().invert_yaxis()  # Invert the y-axis to display the highest cost of living at the top\n",
    "plt.grid(axis='x', linestyle='--', alpha=0.6)\n",
    "plt.show()"
   ]
  },
  {
   "cell_type": "code",
   "execution_count": null,
   "id": "4c5e6990",
   "metadata": {},
   "outputs": [],
   "source": []
  },
  {
   "cell_type": "code",
   "execution_count": 23,
   "id": "836f510b",
   "metadata": {},
   "outputs": [
    {
     "data": {
      "image/png": "[encoded data removed]",
      "text/plain": [
       "<Figure size 1000x600 with 1 Axes>"
      ]
     },
     "metadata": {},
     "output_type": "display_data"
    }
   ],
   "source": [
    "#Mean cost of Living by Continent in 2017\n",
    "data = {\n",
    "    \"Country\": [\"Bermuda\", \"Iceland\", \"Switzerland\", \"Norway\", \"Denmark\", \"Azerbaijan\", \"Kyrgyzstan\", \"Sudan\", \"Ukraine\", \"Egypt\"],\n",
    "    \"Cost_of_Living\": [225.86, 209.10, 197.89, 186.52, 171.78, 40.56, 40.38, 38.29, 37.76, 27.37],\n",
    "    \"Continent\": [\"North America\", \"Europe\", \"Europe\", \"Europe\", \"Europe\", \"Asia\", \"Asia\", \"Africa\", \"Europe\", \"Africa\"]\n",
    "}\n",
    "\n",
    "df = pd.DataFrame(data)\n",
    "\n",
    "# Group by continent and calculate the mean cost of living\n",
    "continent_mean_cost = df.groupby('Continent')['Cost_of_Living'].mean().reset_index()\n",
    "\n",
    "# Create a grouped bar chart\n",
    "plt.figure(figsize=(10, 6))\n",
    "plt.bar(continent_mean_cost['Continent'], continent_mean_cost['Cost_of_Living'], color='skyblue')\n",
    "plt.xlabel('Continent')\n",
    "plt.ylabel('Mean Cost of Living (2017)')\n",
    "plt.title('Mean Cost of Living by Continent in 2017')\n",
    "plt.grid(axis='y', linestyle='--', alpha=0.6)\n",
    "plt.xticks(rotation=45)\n",
    "plt.show()"
   ]
  },
  {
   "cell_type": "code",
   "execution_count": null,
   "id": "73b1f17a",
   "metadata": {},
   "outputs": [],
   "source": []
  },
  {
   "cell_type": "code",
   "execution_count": 24,
   "id": "1e60f105",
   "metadata": {},
   "outputs": [
    {
     "data": {
      "image/png": "[encoded data removed]",
      "text/plain": [
       "<Figure size 1200x600 with 1 Axes>"
      ]
     },
     "metadata": {},
     "output_type": "display_data"
    }
   ],
   "source": [
    "# Data\n",
    "countries = [\"Bermuda\", \"Iceland\", \"Switzerland\", \"Norway\", \"Denmark\", \"Azerbaijan\", \"Kyrgyzstan\", \"Sudan\", \"Ukraine\", \"Egypt\"]\n",
    "cost_of_living = [225.86, 209.10, 197.89, 186.52, 171.78, 40.56, 40.38, 38.29, 37.76, 27.37]\n",
    "\n",
    "# Create a line chart\n",
    "plt.figure(figsize=(12, 6))\n",
    "plt.plot(countries, cost_of_living, marker='o', color='skyblue', linestyle='-', linewidth=2, markersize=8)\n",
    "plt.xlabel('Country')\n",
    "plt.ylabel('Cost of Living (2017)')\n",
    "plt.title('Cost of Living for Top 10 Countries in 2017')\n",
    "plt.xticks(rotation=45)\n",
    "plt.grid(axis='y', linestyle='--', alpha=0.6)\n",
    "plt.tight_layout()\n",
    "plt.show()"
   ]
  },
  {
   "cell_type": "code",
   "execution_count": null,
   "id": "c2e23a90",
   "metadata": {},
   "outputs": [],
   "source": []
  },
  {
   "cell_type": "code",
   "execution_count": 39,
   "id": "4038f252",
   "metadata": {},
   "outputs": [
    {
     "data": {
      "image/png": "[encoded data removed]",
      "text/plain": [
       "<Figure size 800x600 with 2 Axes>"
      ]
     },
     "metadata": {},
     "output_type": "display_data"
    }
   ],
   "source": [
    "#HaetMap\n",
    "# Sample data (replace with your actual dataset)\n",
    "data = {\n",
    "    \"Country\": [\"Bermuda\", \"Iceland\", \"Switzerland\", \"Norway\", \"Denmark\", \"Azerbaijan\", \"Kyrgyzstan\", \"Sudan\", \"Ukraine\", \"Egypt\"],\n",
    "    \"Cost_of_Living\": [225.86, 209.10, 197.89, 186.52, 171.78, 40.56, 40.38, 38.29, 37.76, 27.37],\n",
    "    \"Global_Rank\": [1, 2, 3, 4, 5, 163, 164, 165, 166, 167]\n",
    "}\n",
    "\n",
    "df = pd.DataFrame(data)\n",
    "\n",
    "# Create a heatmap\n",
    "plt.figure(figsize=(8, 6))\n",
    "heatmap_data = df[['Global_Rank', 'Cost_of_Living']].corr()\n",
    "sns.heatmap(heatmap_data, annot=True, cmap='coolwarm', fmt='.2f', linewidths=.5)\n",
    "plt.title('Correlation Heatmap between Global Rank and Cost of Living')\n",
    "plt.show()"
   ]
  },
  {
   "cell_type": "code",
   "execution_count": null,
   "id": "4f2b1427",
   "metadata": {},
   "outputs": [],
   "source": []
  },
  {
   "cell_type": "code",
   "execution_count": null,
   "id": "23d32ada",
   "metadata": {},
   "outputs": [],
   "source": []
  },
  {
   "cell_type": "code",
   "execution_count": 72,
   "id": "f31b630d",
   "metadata": {},
   "outputs": [],
   "source": [
    "# Split the dataset into features (X) and the target variable (y)\n",
    "from sklearn.model_selection import train_test_split\n",
    "X = data.drop(\"Cost of living, 2017\", axis=1)  # Features (excluding the target variable)\n",
    "y = data[\"Cost of living, 2017\"]  # Target variable (Cost of living in 2017)"
   ]
  },
  {
   "cell_type": "code",
   "execution_count": 73,
   "id": "dedcfa78",
   "metadata": {},
   "outputs": [
    {
     "name": "stdout",
     "output_type": "stream",
     "text": [
      "X_train shape: (133, 3)\n",
      "X_test shape: (34, 3)\n",
      "y_train shape: (133,)\n",
      "y_test shape: (34,)\n"
     ]
    }
   ],
   "source": [
    "# Split the data into training and testing sets (80% train, 20% test)\n",
    "X_train, X_test, y_train, y_test = train_test_split(X, y, test_size=0.2, random_state=42)\n",
    "\n",
    "# Display the shapes of the resulting sets\n",
    "print(\"X_train shape:\", X_train.shape)\n",
    "print(\"X_test shape:\", X_test.shape)\n",
    "print(\"y_train shape:\", y_train.shape)\n",
    "print(\"y_test shape:\", y_test.shape)\n"
   ]
  },
  {
   "cell_type": "markdown",
   "id": "9b7ddd96",
   "metadata": {},
   "source": [
    "# Feature Selection:"
   ]
  },
  {
   "cell_type": "code",
   "execution_count": 74,
   "id": "4262e0f4",
   "metadata": {},
   "outputs": [
    {
     "name": "stdout",
     "output_type": "stream",
     "text": [
      "Cost of living, 2017    1.000000\n",
      "Global rank             0.911331\n",
      "Name: Cost of living, 2017, dtype: float64\n"
     ]
    },
    {
     "name": "stderr",
     "output_type": "stream",
     "text": [
      "C:\\Users\\Akinmegs\\AppData\\Local\\Temp\\ipykernel_7724\\2438937803.py:5: FutureWarning: The default value of numeric_only in DataFrame.corr is deprecated. In a future version, it will default to False. Select only valid columns or specify the value of numeric_only to silence this warning.\n",
      "  correlations = data.corr()\n"
     ]
    }
   ],
   "source": [
    "##Correlation Analysis: Calculate the correlation between each feature and the target variable. \n",
    "##Features with high absolute correlation values are more likely to be relevant.\n",
    "\n",
    "# Calculate correlation with the target variable\n",
    "correlations = data.corr()\n",
    "correlation_with_target = correlations[\"Cost of living, 2017\"].abs()\n",
    "\n",
    "# Sort features by correlation value\n",
    "relevant_features = correlation_with_target.sort_values(ascending=False)\n",
    "print(relevant_features)"
   ]
  },
  {
   "cell_type": "code",
   "execution_count": null,
   "id": "b9b404e1",
   "metadata": {},
   "outputs": [],
   "source": []
  },
  {
   "cell_type": "code",
   "execution_count": null,
   "id": "435a6236",
   "metadata": {},
   "outputs": [],
   "source": []
  },
  {
   "cell_type": "code",
   "execution_count": 76,
   "id": "33781bc1",
   "metadata": {},
   "outputs": [
    {
     "name": "stdout",
     "output_type": "stream",
     "text": [
      "       Feature       Score       P-value\n",
      "0  Global rank  808.592197  1.712579e-65\n"
     ]
    }
   ],
   "source": [
    "from sklearn.feature_selection import SelectKBest, f_regression\n",
    "\n",
    "\n",
    "# Define features (independent variable) and target (dependent variable)\n",
    "X = data[['Global rank']]  # Feature: Global rank\n",
    "y = data['Cost of living, 2017']  # Target: Cost of living in 2017\n",
    "\n",
    "# Initialize SelectKBest with f_regression scoring function\n",
    "k_best = SelectKBest(score_func=f_regression, k='all')  # You can specify 'k' as the number of top features to select\n",
    "\n",
    "# Fit SelectKBest to your data\n",
    "k_best.fit(X, y)\n",
    "\n",
    "# Get the scores and p-values for each feature\n",
    "feature_scores = k_best.scores_\n",
    "p_values = k_best.pvalues_\n",
    "\n",
    "# Create a DataFrame to display the scores and p-values\n",
    "feature_selection_result = pd.DataFrame({'Feature': X.columns, 'Score': feature_scores, 'P-value': p_values})\n",
    "\n",
    "# Display the results\n",
    "print(feature_selection_result)"
   ]
  },
  {
   "cell_type": "raw",
   "id": "da511562",
   "metadata": {},
   "source": [
    "Insight:\n",
    "\n",
    "The feature selection analysis indicates that the \"Global rank\" feature has a high score and a very low p-value. \n",
    "This suggests that \"Global rank\" is highly relevant for predicting the \"Cost of living, 2017.\" \n",
    "The low p-value indicates that the relationship between \"Global rank\" and \"Cost of living, 2017\" is statistically significant.\n",
    "\n",
    "Based on this feature selection result, you can confidently consider \"Global rank\" as the most important feature for predicting the cost of living in 2017. You can proceed with building a predictive model using this feature or explore more advanced modeling techniques to enhance the prediction accuracy."
   ]
  },
  {
   "cell_type": "code",
   "execution_count": null,
   "id": "4edca983",
   "metadata": {},
   "outputs": [],
   "source": []
  },
  {
   "cell_type": "markdown",
   "id": "eb704fd7",
   "metadata": {},
   "source": [
    "# MODEL SELECTION:"
   ]
  },
  {
   "cell_type": "markdown",
   "id": "80326e41",
   "metadata": {},
   "source": [
    "# Linear Regression:"
   ]
  },
  {
   "cell_type": "code",
   "execution_count": 77,
   "id": "b754756c",
   "metadata": {},
   "outputs": [
    {
     "name": "stdout",
     "output_type": "stream",
     "text": [
      "Mean Squared Error: 134.37661071482012\n",
      "Mean Absolute Error: 10.447297692535377\n"
     ]
    }
   ],
   "source": [
    "from sklearn.model_selection import train_test_split\n",
    "from sklearn.linear_model import LinearRegression\n",
    "from sklearn.metrics import mean_squared_error, mean_absolute_error\n",
    "\n",
    "X = data[['Global rank']]\n",
    "y = data['Cost of living, 2017']\n",
    "\n",
    "# Split the data into training and testing sets (80% train, 20% test)\n",
    "X_train, X_test, y_train, y_test = train_test_split(X, y, test_size=0.2, random_state=42)\n",
    "\n",
    "# Create and train a linear regression model\n",
    "model = LinearRegression()\n",
    "model.fit(X_train, y_train)\n",
    "\n",
    "# Make predictions on the testing data\n",
    "y_pred = model.predict(X_test)\n",
    "\n",
    "# Evaluate the model\n",
    "mse = mean_squared_error(y_test, y_pred)\n",
    "mae = mean_absolute_error(y_test, y_pred)\n",
    "\n",
    "print(\"Mean Squared Error:\", mse)\n",
    "print(\"Mean Absolute Error:\", mae)"
   ]
  },
  {
   "cell_type": "markdown",
   "id": "3a888ed8",
   "metadata": {},
   "source": [
    "Mean Squared Error (MSE): MSE measures the average of the squared differences between predicted values and actual values. In your case, an MSE of approximately 134.38 means that, on average, the squared difference between the predicted and actual cost of living values is 134.38. Lower MSE values indicate better model performance.\n",
    "\n",
    "Mean Absolute Error (MAE): MAE measures the average of the absolute differences between predicted values and actual values. An MAE of approximately 10.45 means that, on average, the absolute difference between the predicted and actual cost of living values is 10.45."
   ]
  },
  {
   "cell_type": "code",
   "execution_count": null,
   "id": "3e71288f",
   "metadata": {},
   "outputs": [],
   "source": []
  },
  {
   "cell_type": "code",
   "execution_count": 78,
   "id": "2eab7edb",
   "metadata": {},
   "outputs": [
    {
     "name": "stdout",
     "output_type": "stream",
     "text": [
      "Mean Squared Error: 1.887417647058827\n",
      "Mean Absolute Error: 0.9035294117647074\n"
     ]
    }
   ],
   "source": [
    "#Decison Tree Regressor\n",
    "from sklearn.model_selection import train_test_split\n",
    "from sklearn.tree import DecisionTreeRegressor\n",
    "from sklearn.metrics import mean_squared_error, mean_absolute_error\n",
    "\n",
    "X = data[['Global rank']]\n",
    "y = data['Cost of living, 2017']\n",
    "\n",
    "# Split the data into training and testing sets (80% train, 20% test)\n",
    "X_train, X_test, y_train, y_test = train_test_split(X, y, test_size=0.2, random_state=42)\n",
    "\n",
    "# Create and train a decision tree model\n",
    "model = DecisionTreeRegressor(random_state=42)  # You can adjust hyperparameters as needed\n",
    "model.fit(X_train, y_train)\n",
    "\n",
    "# Make predictions on the testing data\n",
    "y_pred = model.predict(X_test)\n",
    "\n",
    "# Evaluate the model\n",
    "mse = mean_squared_error(y_test, y_pred)\n",
    "mae = mean_absolute_error(y_test, y_pred)\n",
    "\n",
    "print(\"Mean Squared Error:\", mse)\n",
    "print(\"Mean Absolute Error:\", mae)"
   ]
  },
  {
   "cell_type": "markdown",
   "id": "df15fe81",
   "metadata": {},
   "source": [
    "Mean Squared Error (MSE): An MSE of approximately 1.89 indicates that, on average, the squared difference between the predicted and actual cost of living values is 1.89. This suggests that your decision tree model is providing relatively accurate predictions.\n",
    "\n",
    "Mean Absolute Error (MAE): An MAE of approximately 0.90 means that, on average, the absolute difference between the predicted and actual cost of living values is 0.90. MAE represents a more interpretable measure of prediction accuracy in the same units as the target variable.\n",
    "\n",
    "These results indicate that your decision tree model is performing well in predicting the cost of living based on the \"Global rank\" feature. The low values of MSE and MAE suggest that the model is making accurate predictions with small errors."
   ]
  },
  {
   "cell_type": "code",
   "execution_count": null,
   "id": "a509e8c0",
   "metadata": {},
   "outputs": [],
   "source": []
  },
  {
   "cell_type": "code",
   "execution_count": 79,
   "id": "91788851",
   "metadata": {},
   "outputs": [
    {
     "name": "stdout",
     "output_type": "stream",
     "text": [
      "Mean Squared Error: 1.0438168070588503\n",
      "Mean Absolute Error: 0.658794117647071\n"
     ]
    }
   ],
   "source": [
    "#Random Forests:\n",
    "\n",
    "from sklearn.model_selection import train_test_split\n",
    "from sklearn.ensemble import RandomForestRegressor\n",
    "from sklearn.metrics import mean_squared_error, mean_absolute_error\n",
    "\n",
    "X = data[['Global rank']]\n",
    "y = data['Cost of living, 2017']\n",
    "\n",
    "# Split the data into training and testing sets (80% train, 20% test)\n",
    "X_train, X_test, y_train, y_test = train_test_split(X, y, test_size=0.2, random_state=42)\n",
    "\n",
    "# Create and train a Random Forest regression model\n",
    "model = RandomForestRegressor(n_estimators=100, random_state=42)  # You can adjust hyperparameters as needed\n",
    "model.fit(X_train, y_train)\n",
    "\n",
    "# Make predictions on the testing data\n",
    "y_pred = model.predict(X_test)\n",
    "\n",
    "# Evaluate the model\n",
    "mse = mean_squared_error(y_test, y_pred)\n",
    "mae = mean_absolute_error(y_test, y_pred)\n",
    "\n",
    "print(\"Mean Squared Error:\", mse)\n",
    "print(\"Mean Absolute Error:\", mae)"
   ]
  },
  {
   "cell_type": "raw",
   "id": "f639bf81",
   "metadata": {},
   "source": [
    "\n",
    "Mean Squared Error (MSE): An MSE of approximately 1.04 indicates that, on average, the squared difference between the predicted and actual cost of living values is 1.04. This suggests that your Random Forest model is providing relatively accurate predictions with lower error compared to previous models.\n",
    "\n",
    "Mean Absolute Error (MAE): An MAE of approximately 0.66 means that, on average, the absolute difference between the predicted and actual cost of living values is 0.66. MAE represents a more interpretable measure of prediction accuracy in the same units as the target variable.\n",
    "\n",
    "These results indicate that your Random Forest regression model is performing well in predicting the cost of living based on the \"Global rank\" feature. The lower values of MSE and MAE compared to previous models suggest that the Random Forest model is providing more accurate predictions with smaller errors.\n",
    "\n",
    "Random Forests are known for their ability to capture complex relationships and mitigate overfitting, making them a strong choice for regression tasks. If you want to further improve the model's performance, you can continue to experiment with hyperparameter tuning, feature engineering, or explore the importance of other features if available."
   ]
  },
  {
   "cell_type": "code",
   "execution_count": null,
   "id": "05da5a5d",
   "metadata": {},
   "outputs": [],
   "source": []
  },
  {
   "cell_type": "code",
   "execution_count": 80,
   "id": "546f5469",
   "metadata": {},
   "outputs": [
    {
     "name": "stdout",
     "output_type": "stream",
     "text": [
      "Mean Squared Error: 202.75872188107022\n",
      "Mean Absolute Error: 9.854607843137732\n"
     ]
    }
   ],
   "source": [
    "##Support Vector Machines (SVMs):\n",
    "\n",
    "from sklearn.model_selection import train_test_split\n",
    "from sklearn.svm import SVR\n",
    "from sklearn.metrics import mean_squared_error, mean_absolute_error\n",
    "\n",
    "X = data[['Global rank']]\n",
    "y = data['Cost of living, 2017']\n",
    "\n",
    "# Split the data into training and testing sets (80% train, 20% test)\n",
    "X_train, X_test, y_train, y_test = train_test_split(X, y, test_size=0.2, random_state=42)\n",
    "\n",
    "# Create and train an SVR model\n",
    "model = SVR(kernel='linear')  # You can choose different kernel functions (linear, polynomial, etc.)\n",
    "model.fit(X_train, y_train)\n",
    "\n",
    "# Make predictions on the testing data\n",
    "y_pred = model.predict(X_test)\n",
    "\n",
    "# Evaluate the model\n",
    "mse = mean_squared_error(y_test, y_pred)\n",
    "mae = mean_absolute_error(y_test, y_pred)\n",
    "\n",
    "print(\"Mean Squared Error:\", mse)\n",
    "print(\"Mean Absolute Error:\", mae)"
   ]
  },
  {
   "cell_type": "raw",
   "id": "252205be",
   "metadata": {},
   "source": [
    "Mean Squared Error (MSE): An MSE of approximately 202.76 indicates that, on average, the squared difference between the predicted and actual cost of living values is 202.76. This suggests the model's predictions have some degree of error, but it's important to consider the context and scale of the cost of living variable.\n",
    "\n",
    "Mean Absolute Error (MAE): An MAE of approximately 9.85 means that, on average, the absolute difference between the predicted and actual cost of living values is 9.85. MAE represents a more interpretable measure of prediction accuracy in the same units as the target variable.\n",
    "\n",
    "Compared to previous models, the SVR model appears to have a higher MSE and MAE, indicating that its predictions have higher errors on this specific dataset. It's worth considering whether the linear kernel choice or hyperparameter settings of the SVR model need adjustment to better capture the underlying patterns in the data."
   ]
  },
  {
   "cell_type": "code",
   "execution_count": null,
   "id": "21a6dcab",
   "metadata": {},
   "outputs": [],
   "source": []
  },
  {
   "cell_type": "code",
   "execution_count": 81,
   "id": "3dc1f2a9",
   "metadata": {},
   "outputs": [
    {
     "name": "stdout",
     "output_type": "stream",
     "text": [
      "Epoch 1/100\n",
      "5/5 [==============================] - 1s 5ms/step - loss: 8181.2104\n",
      "Epoch 2/100\n",
      "5/5 [==============================] - 0s 4ms/step - loss: 7466.4185\n",
      "Epoch 3/100\n",
      "5/5 [==============================] - 0s 5ms/step - loss: 6879.8442\n",
      "Epoch 4/100\n",
      "5/5 [==============================] - 0s 4ms/step - loss: 6391.1577\n",
      "Epoch 5/100\n",
      "5/5 [==============================] - 0s 4ms/step - loss: 6071.9355\n",
      "Epoch 6/100\n",
      "5/5 [==============================] - 0s 3ms/step - loss: 5824.9741\n",
      "Epoch 7/100\n",
      "5/5 [==============================] - 0s 3ms/step - loss: 5637.9150\n",
      "Epoch 8/100\n",
      "5/5 [==============================] - 0s 3ms/step - loss: 5510.5356\n",
      "Epoch 9/100\n",
      "5/5 [==============================] - 0s 3ms/step - loss: 5415.9761\n",
      "Epoch 10/100\n",
      "5/5 [==============================] - 0s 3ms/step - loss: 5363.9102\n",
      "Epoch 11/100\n",
      "5/5 [==============================] - 0s 3ms/step - loss: 5340.2744\n",
      "Epoch 12/100\n",
      "5/5 [==============================] - 0s 4ms/step - loss: 5331.2817\n",
      "Epoch 13/100\n",
      "5/5 [==============================] - 0s 4ms/step - loss: 5330.8101\n",
      "Epoch 14/100\n",
      "5/5 [==============================] - 0s 4ms/step - loss: 5331.3062\n",
      "Epoch 15/100\n",
      "5/5 [==============================] - 0s 4ms/step - loss: 5330.9253\n",
      "Epoch 16/100\n",
      "5/5 [==============================] - 0s 3ms/step - loss: 5326.0000\n",
      "Epoch 17/100\n",
      "5/5 [==============================] - 0s 4ms/step - loss: 5322.7178\n",
      "Epoch 18/100\n",
      "5/5 [==============================] - 0s 3ms/step - loss: 5322.9165\n",
      "Epoch 19/100\n",
      "5/5 [==============================] - 0s 4ms/step - loss: 5320.1743\n",
      "Epoch 20/100\n",
      "5/5 [==============================] - 0s 4ms/step - loss: 5318.1138\n",
      "Epoch 21/100\n",
      "5/5 [==============================] - 0s 3ms/step - loss: 5316.6812\n",
      "Epoch 22/100\n",
      "5/5 [==============================] - 0s 5ms/step - loss: 5317.0781\n",
      "Epoch 23/100\n",
      "5/5 [==============================] - 0s 4ms/step - loss: 5315.3447\n",
      "Epoch 24/100\n",
      "5/5 [==============================] - 0s 4ms/step - loss: 5313.1641\n",
      "Epoch 25/100\n",
      "5/5 [==============================] - 0s 5ms/step - loss: 5310.4912\n",
      "Epoch 26/100\n",
      "5/5 [==============================] - 0s 4ms/step - loss: 5307.3687\n",
      "Epoch 27/100\n",
      "5/5 [==============================] - 0s 4ms/step - loss: 5306.8354\n",
      "Epoch 28/100\n",
      "5/5 [==============================] - 0s 3ms/step - loss: 5307.3506\n",
      "Epoch 29/100\n",
      "5/5 [==============================] - 0s 4ms/step - loss: 5306.5835\n",
      "Epoch 30/100\n",
      "5/5 [==============================] - 0s 4ms/step - loss: 5305.5195\n",
      "Epoch 31/100\n",
      "5/5 [==============================] - 0s 4ms/step - loss: 5304.1436\n",
      "Epoch 32/100\n",
      "5/5 [==============================] - 0s 4ms/step - loss: 5301.1567\n",
      "Epoch 33/100\n",
      "5/5 [==============================] - 0s 4ms/step - loss: 5298.3901\n",
      "Epoch 34/100\n",
      "5/5 [==============================] - 0s 3ms/step - loss: 5296.3818\n",
      "Epoch 35/100\n",
      "5/5 [==============================] - 0s 3ms/step - loss: 5295.0312\n",
      "Epoch 36/100\n",
      "5/5 [==============================] - 0s 4ms/step - loss: 5293.3647\n",
      "Epoch 37/100\n",
      "5/5 [==============================] - 0s 4ms/step - loss: 5291.5103\n",
      "Epoch 38/100\n",
      "5/5 [==============================] - 0s 4ms/step - loss: 5285.9707\n",
      "Epoch 39/100\n",
      "5/5 [==============================] - 0s 5ms/step - loss: 5285.3169\n",
      "Epoch 40/100\n",
      "5/5 [==============================] - 0s 3ms/step - loss: 5286.8242\n",
      "Epoch 41/100\n",
      "5/5 [==============================] - 0s 4ms/step - loss: 5286.9609\n",
      "Epoch 42/100\n",
      "5/5 [==============================] - 0s 3ms/step - loss: 5282.8242\n",
      "Epoch 43/100\n",
      "5/5 [==============================] - 0s 4ms/step - loss: 5281.1680\n",
      "Epoch 44/100\n",
      "5/5 [==============================] - 0s 4ms/step - loss: 5273.8813\n",
      "Epoch 45/100\n",
      "5/5 [==============================] - 0s 4ms/step - loss: 5272.9102\n",
      "Epoch 46/100\n",
      "5/5 [==============================] - 0s 5ms/step - loss: 5279.5762\n",
      "Epoch 47/100\n",
      "5/5 [==============================] - 0s 4ms/step - loss: 5276.7295\n",
      "Epoch 48/100\n",
      "5/5 [==============================] - 0s 3ms/step - loss: 5270.3374\n",
      "Epoch 49/100\n",
      "5/5 [==============================] - 0s 3ms/step - loss: 5263.6597\n",
      "Epoch 50/100\n",
      "5/5 [==============================] - 0s 3ms/step - loss: 5262.3813\n",
      "Epoch 51/100\n",
      "5/5 [==============================] - 0s 3ms/step - loss: 5269.6865\n",
      "Epoch 52/100\n",
      "5/5 [==============================] - 0s 3ms/step - loss: 5266.5986\n",
      "Epoch 53/100\n",
      "5/5 [==============================] - 0s 3ms/step - loss: 5264.6685\n",
      "Epoch 54/100\n",
      "5/5 [==============================] - 0s 3ms/step - loss: 5256.0483\n",
      "Epoch 55/100\n",
      "5/5 [==============================] - 0s 3ms/step - loss: 5254.4077\n",
      "Epoch 56/100\n",
      "5/5 [==============================] - 0s 4ms/step - loss: 5252.5229\n",
      "Epoch 57/100\n",
      "5/5 [==============================] - 0s 4ms/step - loss: 5250.1255\n",
      "Epoch 58/100\n",
      "5/5 [==============================] - 0s 4ms/step - loss: 5249.4438\n",
      "Epoch 59/100\n",
      "5/5 [==============================] - 0s 4ms/step - loss: 5247.1562\n",
      "Epoch 60/100\n",
      "5/5 [==============================] - 0s 4ms/step - loss: 5242.8784\n",
      "Epoch 61/100\n",
      "5/5 [==============================] - 0s 3ms/step - loss: 5245.0347\n",
      "Epoch 62/100\n",
      "5/5 [==============================] - 0s 3ms/step - loss: 5251.7383\n",
      "Epoch 63/100\n",
      "5/5 [==============================] - 0s 3ms/step - loss: 5245.3911\n",
      "Epoch 64/100\n",
      "5/5 [==============================] - 0s 4ms/step - loss: 5245.9658\n",
      "Epoch 65/100\n",
      "5/5 [==============================] - 0s 4ms/step - loss: 5233.8359\n",
      "Epoch 66/100\n",
      "5/5 [==============================] - 0s 3ms/step - loss: 5230.2407\n",
      "Epoch 67/100\n",
      "5/5 [==============================] - 0s 4ms/step - loss: 5227.8726\n",
      "Epoch 68/100\n",
      "5/5 [==============================] - 0s 3ms/step - loss: 5226.4961\n",
      "Epoch 69/100\n",
      "5/5 [==============================] - 0s 4ms/step - loss: 5222.7515\n",
      "Epoch 70/100\n",
      "5/5 [==============================] - 0s 4ms/step - loss: 5220.7515\n",
      "Epoch 71/100\n",
      "5/5 [==============================] - 0s 4ms/step - loss: 5217.6240\n",
      "Epoch 72/100\n",
      "5/5 [==============================] - 0s 3ms/step - loss: 5214.5454\n",
      "Epoch 73/100\n",
      "5/5 [==============================] - 0s 4ms/step - loss: 5213.4111\n",
      "Epoch 74/100\n",
      "5/5 [==============================] - 0s 3ms/step - loss: 5211.7856\n",
      "Epoch 75/100\n",
      "5/5 [==============================] - 0s 4ms/step - loss: 5210.9595\n",
      "Epoch 76/100\n",
      "5/5 [==============================] - 0s 3ms/step - loss: 5205.3223\n",
      "Epoch 77/100\n",
      "5/5 [==============================] - 0s 3ms/step - loss: 5203.3496\n",
      "Epoch 78/100\n",
      "5/5 [==============================] - 0s 4ms/step - loss: 5201.3774\n",
      "Epoch 79/100\n",
      "5/5 [==============================] - 0s 5ms/step - loss: 5198.2603\n",
      "Epoch 80/100\n",
      "5/5 [==============================] - 0s 3ms/step - loss: 5194.7700\n",
      "Epoch 81/100\n",
      "5/5 [==============================] - 0s 3ms/step - loss: 5192.9116\n",
      "Epoch 82/100\n",
      "5/5 [==============================] - 0s 4ms/step - loss: 5190.7930\n",
      "Epoch 83/100\n",
      "5/5 [==============================] - 0s 3ms/step - loss: 5185.9097\n",
      "Epoch 84/100\n",
      "5/5 [==============================] - 0s 4ms/step - loss: 5185.3691\n",
      "Epoch 85/100\n",
      "5/5 [==============================] - 0s 3ms/step - loss: 5180.2681\n",
      "Epoch 86/100\n",
      "5/5 [==============================] - 0s 4ms/step - loss: 5175.3086\n",
      "Epoch 87/100\n",
      "5/5 [==============================] - 0s 4ms/step - loss: 5176.0537\n",
      "Epoch 88/100\n",
      "5/5 [==============================] - 0s 3ms/step - loss: 5177.0259\n",
      "Epoch 89/100\n",
      "5/5 [==============================] - 0s 3ms/step - loss: 5172.4624\n",
      "Epoch 90/100\n",
      "5/5 [==============================] - 0s 3ms/step - loss: 5167.5850\n",
      "Epoch 91/100\n",
      "5/5 [==============================] - 0s 3ms/step - loss: 5162.2666\n",
      "Epoch 92/100\n",
      "5/5 [==============================] - 0s 4ms/step - loss: 5162.1030\n",
      "Epoch 93/100\n",
      "5/5 [==============================] - 0s 3ms/step - loss: 5162.2310\n",
      "Epoch 94/100\n",
      "5/5 [==============================] - 0s 3ms/step - loss: 5155.1855\n",
      "Epoch 95/100\n",
      "5/5 [==============================] - 0s 4ms/step - loss: 5148.1641\n",
      "Epoch 96/100\n",
      "5/5 [==============================] - 0s 4ms/step - loss: 5148.1040\n",
      "Epoch 97/100\n",
      "5/5 [==============================] - 0s 3ms/step - loss: 5143.0825\n",
      "Epoch 98/100\n",
      "5/5 [==============================] - 0s 3ms/step - loss: 5138.9155\n",
      "Epoch 99/100\n",
      "5/5 [==============================] - 0s 3ms/step - loss: 5136.1562\n",
      "Epoch 100/100\n",
      "5/5 [==============================] - 0s 3ms/step - loss: 5130.7500\n",
      "2/2 [==============================] - 0s 3ms/step\n",
      "Mean Squared Error: 5163.5642834739365\n",
      "Mean Absolute Error: 55.20890473758473\n"
     ]
    }
   ],
   "source": [
    "##Neural Networks (Deep Learning):\n",
    "from sklearn.model_selection import train_test_split\n",
    "from tensorflow import keras\n",
    "from tensorflow.keras import layers\n",
    "from sklearn.metrics import mean_squared_error, mean_absolute_error\n",
    "\n",
    "X = data[['Global rank']]\n",
    "y = data['Cost of living, 2017']\n",
    "\n",
    "# Normalize the data (optional but can help with training)\n",
    "# X = (X - X.mean()) / X.std()\n",
    "\n",
    "# Split the data into training and testing sets (80% train, 20% test)\n",
    "X_train, X_test, y_train, y_test = train_test_split(X, y, test_size=0.2, random_state=42)\n",
    "\n",
    "# Create a neural network model\n",
    "model = keras.Sequential()\n",
    "model.add(layers.Dense(64, activation='relu', input_dim=1))\n",
    "model.add(layers.Dense(32, activation='relu'))\n",
    "model.add(layers.Dense(1))  # Output layer\n",
    "\n",
    "# Compile the model\n",
    "model.compile(optimizer='adam', loss='mean_squared_error')\n",
    "\n",
    "# Train the model\n",
    "model.fit(X_train, y_train, epochs=100, batch_size=32, verbose=1)\n",
    "\n",
    "# Make predictions on the testing data\n",
    "y_pred = model.predict(X_test)\n",
    "\n",
    "# Evaluate the model\n",
    "mse = mean_squared_error(y_test, y_pred)\n",
    "mae = mean_absolute_error(y_test, y_pred)\n",
    "\n",
    "print(\"Mean Squared Error:\", mse)\n",
    "print(\"Mean Absolute Error:\", mae)\n"
   ]
  },
  {
   "cell_type": "markdown",
   "id": "41324c08",
   "metadata": {},
   "source": [
    "Mean Squared Error (MSE): An MSE of approximately 5163.56 indicates that, on average, the squared difference between the predicted and actual cost of living values is 5163.56. This suggests that the neural network model's predictions have relatively high errors.\n",
    "\n",
    "Mean Absolute Error (MAE): An MAE of approximately 55.21 means that, on average, the absolute difference between the predicted and actual cost of living values is 55.21. MAE represents a more interpretable measure of prediction accuracy in the same units as the target variable.\n",
    "\n",
    "The high values of MSE and MAE suggest that the neural network model, as currently configured, may not be performing well on this specific dataset. There are several considerations to improve the model's performance:"
   ]
  },
  {
   "cell_type": "code",
   "execution_count": null,
   "id": "49b2d7ee",
   "metadata": {},
   "outputs": [],
   "source": []
  },
  {
   "cell_type": "code",
   "execution_count": null,
   "id": "c3f4cab9",
   "metadata": {},
   "outputs": [],
   "source": []
  },
  {
   "cell_type": "raw",
   "id": "dcc668f3",
   "metadata": {},
   "source": [
    "o determine which of the five predictive models (Linear Regression, Decision Trees, Random Forests, Support Vector Machines, and Neural Networks) is the best for predicting the cost of living using \"Global rank\" as the independent variable, you should consider the evaluation metrics, specifically Mean Squared Error (MSE) and Mean Absolute Error (MAE). Lower values of MSE and MAE indicate better predictive performance.\n",
    "\n",
    "Here's a summary of the evaluation metrics for each model:\n",
    "\n",
    "Linear Regression:\n",
    "\n",
    "MSE: 134.38\n",
    "MAE: 10.45\n",
    "Decision Trees:\n",
    "\n",
    "MSE: 1.89\n",
    "MAE: 0.90\n",
    "Random Forests:\n",
    "\n",
    "MSE: 1.04\n",
    "MAE: 0.66\n",
    "Support Vector Machines (SVR):\n",
    "\n",
    "MSE: 202.76\n",
    "MAE: 9.85\n",
    "Neural Networks (Deep Learning):\n",
    "\n",
    "MSE: 5163.56\n",
    "MAE: 55.21\n",
    "Based on the evaluation metrics, the Decision Trees and Random Forests models have the lowest MSE and MAE, indicating that they provide the best predictive performance among the models considered for this specific task. These models capture the relationship between \"Global rank\" and the cost of living with the smallest prediction errors.\n",
    "\n",
    "Both Decision Trees and Random Forests are suitable choices for this task, with Decision Trees being simpler and Random Forests offering more robustness through ensemble learning. You may choose between them based on factors such as interpretability and computational efficiency, depending on the specific needs and constraints."
   ]
  },
  {
   "cell_type": "code",
   "execution_count": null,
   "id": "25783a70",
   "metadata": {},
   "outputs": [],
   "source": []
  },
  {
   "cell_type": "markdown",
   "id": "b3898656",
   "metadata": {},
   "source": [
    "# Hyperparameter Tuning for Decision Trees:"
   ]
  },
  {
   "cell_type": "code",
   "execution_count": 83,
   "id": "68cec3f2",
   "metadata": {},
   "outputs": [
    {
     "name": "stdout",
     "output_type": "stream",
     "text": [
      "Best Hyperparameters: {'max_depth': None, 'min_samples_leaf': 1, 'min_samples_split': 2}\n",
      "Mean Squared Error: 1.887417647058827\n",
      "Mean Absolute Error: 0.9035294117647074\n"
     ]
    }
   ],
   "source": [
    "from sklearn.model_selection import train_test_split, GridSearchCV\n",
    "from sklearn.tree import DecisionTreeRegressor\n",
    "\n",
    "# Load your dataset and split it into X and y as shown before\n",
    "#data = pd.read_csv('your_data.csv')\n",
    "X = data[['Global rank']]\n",
    "y = data['Cost of living, 2017']\n",
    "\n",
    "# Split the data into training and testing sets (80% train, 20% test)\n",
    "X_train, X_test, y_train, y_test = train_test_split(X, y, test_size=0.2, random_state=42)\n",
    "\n",
    "# Define a grid of hyperparameters to search\n",
    "param_grid = {\n",
    "    'max_depth': [None, 10, 20, 30],\n",
    "    'min_samples_split': [2, 5, 10],\n",
    "    'min_samples_leaf': [1, 2, 4]\n",
    "}\n",
    "\n",
    "# Create a Decision Tree regressor\n",
    "dt_regressor = DecisionTreeRegressor(random_state=42)\n",
    "\n",
    "# Perform Grid Search with cross-validation\n",
    "grid_search = GridSearchCV(dt_regressor, param_grid, cv=5, scoring='neg_mean_squared_error', n_jobs=-1)\n",
    "grid_search.fit(X_train, y_train)\n",
    "\n",
    "# Get the best hyperparameters\n",
    "best_params = grid_search.best_params_\n",
    "print(\"Best Hyperparameters:\", best_params)\n",
    "\n",
    "# Train the Decision Tree with the best hyperparameters on the entire training dataset\n",
    "best_dt_regressor = DecisionTreeRegressor(**best_params, random_state=42)\n",
    "best_dt_regressor.fit(X_train, y_train)\n",
    "\n",
    "# Evaluate the model on the test dataset\n",
    "y_pred = best_dt_regressor.predict(X_test)\n",
    "mse = mean_squared_error(y_test, y_pred)\n",
    "mae = mean_absolute_error(y_test, y_pred)\n",
    "\n",
    "print(\"Mean Squared Error:\", mse)\n",
    "print(\"Mean Absolute Error:\", mae)"
   ]
  },
  {
   "cell_type": "markdown",
   "id": "18d58c31",
   "metadata": {},
   "source": [
    "The best hyperparameters for the Decision Tree model, as determined by the grid search, are as follows:\n",
    "\n",
    "max_depth: None\n",
    "min_samples_leaf: 1\n",
    "min_samples_split: 2\n",
    "\n",
    "Interpretations of the evaluation metrics for the Decision Tree model are as follows:\n",
    "\n",
    "Mean Squared Error (MSE): \n",
    "The MSE is approximately 1.89. This value represents the average of the squared differences between the predicted and actual cost of living values. In the context of this predictive model, an MSE of 1.89 indicates that, on average, the squared prediction errors are 1.89 units.\n",
    "\n",
    "Mean Absolute Error (MAE): \n",
    "The MAE is approximately 0.90. This value represents the average of the absolute differences between the predicted and actual cost of living values. In this model, an MAE of 0.90 means that, on average, the absolute prediction errors are 0.90 units.\n",
    "\n",
    "Interpretation:\n",
    "\n",
    "The Decision Tree model, with the selected hyperparameters, performs reasonably well in predicting the cost of living based on the \"Global rank\" feature.\n",
    "\n",
    "The relatively low MSE and MAE values suggest that the model's predictions are generally close to the actual cost of living values.\n",
    "\n",
    "The choice of max_depth=None allows the Decision Tree to grow until it achieves pure leaves, which might capture complex relationships in the data.\n",
    "\n",
    "min_samples_leaf=1 indicates that each leaf node should contain at least one sample, which can lead to fine-grained splits in the tree.\n",
    "\n",
    "min_samples_split=2 specifies that a node can be split if it has at least two samples, meaning that the tree can explore different potential splits more freely.\n",
    "\n",
    "Overall, this Decision Tree model with hyperparameters performed well for the task, capturing the relationship between \"Global rank\" and the cost of living with relatively low prediction errors.\n"
   ]
  },
  {
   "cell_type": "code",
   "execution_count": null,
   "id": "24fdeb79",
   "metadata": {},
   "outputs": [],
   "source": []
  },
  {
   "cell_type": "markdown",
   "id": "3aac7e3b",
   "metadata": {},
   "source": [
    "# Hyperparameter Tuning for Random Forests:"
   ]
  },
  {
   "cell_type": "code",
   "execution_count": 84,
   "id": "c00089d4",
   "metadata": {},
   "outputs": [
    {
     "name": "stderr",
     "output_type": "stream",
     "text": [
      "C:\\Users\\Akinmegs\\anaconda3\\Lib\\site-packages\\sklearn\\ensemble\\_forest.py:413: FutureWarning: `max_features='auto'` has been deprecated in 1.1 and will be removed in 1.3. To keep the past behaviour, explicitly set `max_features=1.0` or remove this parameter as it is also the default value for RandomForestRegressors and ExtraTreesRegressors.\n",
      "  warn(\n"
     ]
    },
    {
     "name": "stdout",
     "output_type": "stream",
     "text": [
      "Best Hyperparameters: {'max_depth': None, 'max_features': 'auto', 'min_samples_leaf': 1, 'min_samples_split': 2, 'n_estimators': 300}\n"
     ]
    },
    {
     "name": "stderr",
     "output_type": "stream",
     "text": [
      "C:\\Users\\Akinmegs\\anaconda3\\Lib\\site-packages\\sklearn\\ensemble\\_forest.py:413: FutureWarning: `max_features='auto'` has been deprecated in 1.1 and will be removed in 1.3. To keep the past behaviour, explicitly set `max_features=1.0` or remove this parameter as it is also the default value for RandomForestRegressors and ExtraTreesRegressors.\n",
      "  warn(\n"
     ]
    },
    {
     "name": "stdout",
     "output_type": "stream",
     "text": [
      "Mean Squared Error: 1.0364934340525191\n",
      "Mean Absolute Error: 0.6436862745098312\n"
     ]
    }
   ],
   "source": [
    "import pandas as pd\n",
    "from sklearn.model_selection import train_test_split, GridSearchCV\n",
    "from sklearn.ensemble import RandomForestRegressor\n",
    "\n",
    "X = data[['Global rank']]\n",
    "y = data['Cost of living, 2017']\n",
    "\n",
    "# Split the data into training and testing sets (80% train, 20% test)\n",
    "X_train, X_test, y_train, y_test = train_test_split(X, y, test_size=0.2, random_state=42)\n",
    "\n",
    "# Define a grid of hyperparameters to search\n",
    "param_grid = {\n",
    "    'n_estimators': [100, 200, 300],\n",
    "    'max_depth': [None, 10, 20],\n",
    "    'min_samples_split': [2, 5, 10],\n",
    "    'min_samples_leaf': [1, 2, 4],\n",
    "    'max_features': ['auto', 'sqrt']\n",
    "}\n",
    "\n",
    "# Create a Random Forest regressor\n",
    "rf_regressor = RandomForestRegressor(random_state=42)\n",
    "\n",
    "# Perform Grid Search with cross-validation\n",
    "grid_search = GridSearchCV(rf_regressor, param_grid, cv=5, scoring='neg_mean_squared_error', n_jobs=-1)\n",
    "grid_search.fit(X_train, y_train)\n",
    "\n",
    "# Get the best hyperparameters\n",
    "best_params = grid_search.best_params_\n",
    "print(\"Best Hyperparameters:\", best_params)\n",
    "\n",
    "# Train the Random Forest with the best hyperparameters on the entire training dataset\n",
    "best_rf_regressor = RandomForestRegressor(**best_params, random_state=42)\n",
    "best_rf_regressor.fit(X_train, y_train)\n",
    "\n",
    "# Evaluate the model on the test dataset\n",
    "y_pred = best_rf_regressor.predict(X_test)\n",
    "mse = mean_squared_error(y_test, y_pred)\n",
    "mae = mean_absolute_error(y_test, y_pred)\n",
    "\n",
    "print(\"Mean Squared Error:\", mse)\n",
    "print(\"Mean Absolute Error:\", mae)"
   ]
  },
  {
   "cell_type": "code",
   "execution_count": null,
   "id": "52852ee6",
   "metadata": {},
   "outputs": [],
   "source": []
  },
  {
   "cell_type": "raw",
   "id": "70c02734",
   "metadata": {},
   "source": [
    "The best hyperparameters for the Random Forest model, as determined by the grid search, are as follows:\n",
    "\n",
    "max_depth: None\n",
    "max_features: 'auto'\n",
    "min_samples_leaf: 1\n",
    "min_samples_split: 2\n",
    "n_estimators: 300\n",
    "Now, let's interpret the evaluation metrics for the Random Forest model:\n",
    "\n",
    "Mean Squared Error (MSE): The MSE is approximately 1.04. This value represents the average of the squared differences between the predicted and actual cost of living values. In the context of your predictive model, an MSE of 1.04 indicates that, on average, the squared prediction errors are 1.04 units.\n",
    "\n",
    "Mean Absolute Error (MAE): The MAE is approximately 0.64. This value represents the average of the absolute differences between the predicted and actual cost of living values. In your model, an MAE of 0.64 means that, on average, the absolute prediction errors are 0.64 units.\n",
    "\n",
    "Interpretation and Insights:\n",
    "\n",
    "Performance: The Random Forest model, with the selected hyperparameters, performs very well in predicting the cost of living based on the \"Global rank\" feature.\n",
    "\n",
    "Low Error: The relatively low MSE and MAE values suggest that the model's predictions are very close to the actual cost of living values. This indicates that the Random Forest model captures the underlying patterns in the data effectively.\n",
    "\n",
    "Hyperparameter Settings: The choice of hyperparameters, including max_depth=None (allowing the trees to grow without depth limitations), max_features='auto' (using all features for splitting), and n_estimators=300 (using a large number of trees), seem to work well for this task.\n",
    "\n",
    "Ensemble Benefit: Random Forests are an ensemble of decision trees, and the combination of multiple trees helps reduce overfitting and improves predictive accuracy. This ensemble approach is particularly useful for capturing complex relationships in the data.\n",
    "\n",
    "Minimization of Error: The low values of MSE and MAE indicate that the Random Forest model provides accurate predictions with small errors, making it a strong choice for your cost of living prediction task.\n",
    "\n",
    "Overall, the Random Forest model with the specified hyperparameters is the top-performing model among those evaluated. It effectively captures the relationship between \"Global rank\" and the cost of living, providing accurate predictions with minimal error."
   ]
  },
  {
   "cell_type": "code",
   "execution_count": null,
   "id": "a08847b2",
   "metadata": {},
   "outputs": [],
   "source": []
  },
  {
   "cell_type": "code",
   "execution_count": null,
   "id": "5b4736ce",
   "metadata": {},
   "outputs": [],
   "source": []
  },
  {
   "cell_type": "markdown",
   "id": "ac87139a",
   "metadata": {},
   "source": [
    "# Geospatial Maps:"
   ]
  },
  {
   "cell_type": "code",
   "execution_count": 58,
   "id": "a1a9de82",
   "metadata": {},
   "outputs": [
    {
     "name": "stdout",
     "output_type": "stream",
     "text": [
      "Requirement already satisfied: folium in c:\\users\\akinmegs\\anaconda3\\lib\\site-packages (0.14.0)\n",
      "Requirement already satisfied: branca>=0.6.0 in c:\\users\\akinmegs\\anaconda3\\lib\\site-packages (from folium) (0.6.0)\n",
      "Requirement already satisfied: jinja2>=2.9 in c:\\users\\akinmegs\\anaconda3\\lib\\site-packages (from folium) (3.1.2)\n",
      "Requirement already satisfied: numpy in c:\\users\\akinmegs\\anaconda3\\lib\\site-packages (from folium) (1.24.3)\n",
      "Requirement already satisfied: requests in c:\\users\\akinmegs\\anaconda3\\lib\\site-packages (from folium) (2.29.0)\n",
      "Requirement already satisfied: MarkupSafe>=2.0 in c:\\users\\akinmegs\\anaconda3\\lib\\site-packages (from jinja2>=2.9->folium) (2.1.1)\n",
      "Requirement already satisfied: charset-normalizer<4,>=2 in c:\\users\\akinmegs\\anaconda3\\lib\\site-packages (from requests->folium) (2.0.4)\n",
      "Requirement already satisfied: idna<4,>=2.5 in c:\\users\\akinmegs\\anaconda3\\lib\\site-packages (from requests->folium) (3.4)\n",
      "Requirement already satisfied: urllib3<1.27,>=1.21.1 in c:\\users\\akinmegs\\anaconda3\\lib\\site-packages (from requests->folium) (1.26.16)\n",
      "Requirement already satisfied: certifi>=2017.4.17 in c:\\users\\akinmegs\\anaconda3\\lib\\site-packages (from requests->folium) (2023.5.7)\n"
     ]
    }
   ],
   "source": [
    "!pip install folium"
   ]
  },
  {
   "cell_type": "code",
   "execution_count": 59,
   "id": "73cff971",
   "metadata": {},
   "outputs": [],
   "source": [
    "import folium\n",
    "import pandas as pd\n",
    "\n",
    "# Sample data (replace with your actual dataset)\n",
    "data = {\n",
    "    \"Country\": [\"Bermuda\", \"Iceland\", \"Switzerland\", \"Norway\", \"Denmark\", \"Azerbaijan\", \"Kyrgyzstan\", \"Sudan\", \"Ukraine\", \"Egypt\"],\n",
    "    \"Cost_of_Living\": [225.86, 209.10, 197.89, 186.52, 171.78, 40.56, 40.38, 38.29, 37.76, 27.37],\n",
    "    \"Latitude\": [32.3078, 64.9631, 46.8182, 60.4720, 56.2639, 40.1431, 41.2044, 12.8628, 48.3794, 26.8206],\n",
    "    \"Longitude\": [-64.7505, -19.0208, 8.2275, 8.4689, 9.5018, 47.5769, 74.7661, 30.2176, 31.1656, 30.8025]\n",
    "}\n",
    "\n",
    "df = pd.DataFrame(data)\n",
    "\n",
    "# Create a world map\n",
    "world_map = folium.Map(location=[0, 0], zoom_start=2)\n",
    "\n",
    "# Define color categories for cost of living levels\n",
    "color_categories = {\n",
    "    \"High\": \"green\",\n",
    "    \"Moderate\": \"orange\",\n",
    "    \"Low\": \"red\"\n",
    "}\n",
    "\n",
    "# Function to categorize cost of living into levels\n",
    "def categorize_cost_of_living(cost):\n",
    "    if cost > 200:\n",
    "        return \"High\"\n",
    "    elif cost > 100:\n",
    "        return \"Moderate\"\n",
    "    else:\n",
    "        return \"Low\"\n",
    "\n",
    "# Add markers to the map\n",
    "for index, row in df.iterrows():\n",
    "    cost = row[\"Cost_of_Living\"]\n",
    "    category = categorize_cost_of_living(cost)\n",
    "    folium.CircleMarker(\n",
    "        location=[row[\"Latitude\"], row[\"Longitude\"]],\n",
    "        radius=6,\n",
    "        color=color_categories[category],\n",
    "        fill=True,\n",
    "        fill_color=color_categories[category],\n",
    "        fill_opacity=0.7,\n",
    "        popup=f\"{row['Country']}: Cost of Living {cost}\",\n",
    "    ).add_to(world_map)\n",
    "\n",
    "# Display the map\n",
    "world_map.save(\"cost_of_living_map.html\")"
   ]
  },
  {
   "cell_type": "code",
   "execution_count": null,
   "id": "805d61b7",
   "metadata": {},
   "outputs": [],
   "source": []
  },
  {
   "cell_type": "markdown",
   "id": "90d0d884",
   "metadata": {},
   "source": [
    "\n"
   ]
  },
  {
   "cell_type": "code",
   "execution_count": null,
   "id": "b7ab7478",
   "metadata": {},
   "outputs": [],
   "source": []
  },
  {
   "cell_type": "code",
   "execution_count": null,
   "id": "d486e0f3",
   "metadata": {},
   "outputs": [],
   "source": []
  },
  {
   "cell_type": "code",
   "execution_count": null,
   "id": "8afed163",
   "metadata": {},
   "outputs": [],
   "source": []
  },
  {
   "cell_type": "code",
   "execution_count": null,
   "id": "69438ee1",
   "metadata": {},
   "outputs": [],
   "source": []
  },
  {
   "cell_type": "code",
   "execution_count": null,
   "id": "b79ca941",
   "metadata": {},
   "outputs": [],
   "source": []
  },
  {
   "cell_type": "code",
   "execution_count": null,
   "id": "344dbc10",
   "metadata": {},
   "outputs": [],
   "source": []
  },
  {
   "cell_type": "code",
   "execution_count": null,
   "id": "49259a78",
   "metadata": {},
   "outputs": [],
   "source": []
  },
  {
   "cell_type": "code",
   "execution_count": null,
   "id": "6fb5377e",
   "metadata": {},
   "outputs": [],
   "source": []
  },
  {
   "cell_type": "code",
   "execution_count": null,
   "id": "423f25a4",
   "metadata": {},
   "outputs": [],
   "source": []
  },
  {
   "cell_type": "code",
   "execution_count": null,
   "id": "3dfff26a",
   "metadata": {},
   "outputs": [],
   "source": []
  },
  {
   "cell_type": "code",
   "execution_count": null,
   "id": "f9af0c8e",
   "metadata": {},
   "outputs": [],
   "source": []
  },
  {
   "cell_type": "code",
   "execution_count": null,
   "id": "ec21eaee",
   "metadata": {},
   "outputs": [],
   "source": []
  },
  {
   "cell_type": "code",
   "execution_count": null,
   "id": "c1bff086",
   "metadata": {},
   "outputs": [],
   "source": []
  },
  {
   "cell_type": "code",
   "execution_count": null,
   "id": "72f8fe6b",
   "metadata": {},
   "outputs": [],
   "source": []
  }
 ],
 "metadata": {
  "kernelspec": {
   "display_name": "Python 3 (ipykernel)",
   "language": "python",
   "name": "python3"
  },
  "language_info": {
   "codemirror_mode": {
    "name": "ipython",
    "version": 3
   },
   "file_extension": ".py",
   "mimetype": "text/x-python",
   "name": "python",
   "nbconvert_exporter": "python",
   "pygments_lexer": "ipython3",
   "version": "3.11.3"
  }
 },
 "nbformat": 4,
 "nbformat_minor": 5
}
