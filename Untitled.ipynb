{
 "cells": [
  {
   "cell_type": "code",
   "execution_count": 1,
   "id": "33341b97",
   "metadata": {},
   "outputs": [
    {
     "name": "stdout",
     "output_type": "stream",
     "text": [
      "Collecting country_converter\n",
      "  Downloading country_converter-1.0.0-py3-none-any.whl (44 kB)\n",
      "                                              0.0/44.5 kB ? eta -:--:--\n",
      "                                              0.0/44.5 kB ? eta -:--:--\n",
      "                                              0.0/44.5 kB ? eta -:--:--\n",
      "                                              0.0/44.5 kB ? eta -:--:--\n",
      "                                              0.0/44.5 kB ? eta -:--:--\n",
      "                                              0.0/44.5 kB ? eta -:--:--\n",
      "     ---------                                10.2/44.5 kB ? eta -:--:--\n",
      "     ---------                                10.2/44.5 kB ? eta -:--:--\n",
      "     ---------                                10.2/44.5 kB ? eta -:--:--\n",
      "     ---------                                10.2/44.5 kB ? eta -:--:--\n",
      "     ---------                                10.2/44.5 kB ? eta -:--:--\n",
      "     ---------                                10.2/44.5 kB ? eta -:--:--\n",
      "     -----------------                       20.5/44.5 kB 31.2 kB/s eta 0:00:01\n",
      "     -----------------                       20.5/44.5 kB 31.2 kB/s eta 0:00:01\n",
      "     -----------------                       20.5/44.5 kB 31.2 kB/s eta 0:00:01\n",
      "     -----------------                       20.5/44.5 kB 31.2 kB/s eta 0:00:01\n",
      "     -----------------                       20.5/44.5 kB 31.2 kB/s eta 0:00:01\n",
      "     -----------------                       20.5/44.5 kB 31.2 kB/s eta 0:00:01\n",
      "     -----------------                       20.5/44.5 kB 31.2 kB/s eta 0:00:01\n",
      "     -----------------                       20.5/44.5 kB 31.2 kB/s eta 0:00:01\n",
      "     --------------------------              30.7/44.5 kB 29.8 kB/s eta 0:00:01\n",
      "     --------------------------              30.7/44.5 kB 29.8 kB/s eta 0:00:01\n",
      "     --------------------------              30.7/44.5 kB 29.8 kB/s eta 0:00:01\n",
      "     --------------------------              30.7/44.5 kB 29.8 kB/s eta 0:00:01\n",
      "     --------------------------              30.7/44.5 kB 29.8 kB/s eta 0:00:01\n",
      "     --------------------------              30.7/44.5 kB 29.8 kB/s eta 0:00:01\n",
      "     --------------------------              30.7/44.5 kB 29.8 kB/s eta 0:00:01\n",
      "     -----------------------------------     41.0/44.5 kB 30.7 kB/s eta 0:00:01\n",
      "     -----------------------------------     41.0/44.5 kB 30.7 kB/s eta 0:00:01\n",
      "     -----------------------------------     41.0/44.5 kB 30.7 kB/s eta 0:00:01\n",
      "     --------------------------------------- 44.5/44.5 kB 29.7 kB/s eta 0:00:00\n",
      "Requirement already satisfied: pandas>=1.0 in c:\\users\\akinmegs\\anaconda3\\lib\\site-packages (from country_converter) (1.5.3)\n",
      "Requirement already satisfied: python-dateutil>=2.8.1 in c:\\users\\akinmegs\\anaconda3\\lib\\site-packages (from pandas>=1.0->country_converter) (2.8.2)\n",
      "Requirement already satisfied: pytz>=2020.1 in c:\\users\\akinmegs\\anaconda3\\lib\\site-packages (from pandas>=1.0->country_converter) (2022.7)\n",
      "Requirement already satisfied: numpy>=1.21.0 in c:\\users\\akinmegs\\anaconda3\\lib\\site-packages (from pandas>=1.0->country_converter) (1.24.3)\n",
      "Requirement already satisfied: six>=1.5 in c:\\users\\akinmegs\\anaconda3\\lib\\site-packages (from python-dateutil>=2.8.1->pandas>=1.0->country_converter) (1.16.0)\n",
      "Installing collected packages: country_converter\n",
      "Successfully installed country_converter-1.0.0\n"
     ]
    }
   ],
   "source": [
    "! pip install country_converter --upgrade"
   ]
  },
  {
   "cell_type": "code",
   "execution_count": 10,
   "id": "538692bb",
   "metadata": {},
   "outputs": [],
   "source": [
    "import pandas as pd\n",
    "import numpy as np\n",
    "import matplotlib.pyplot as plt\n",
    "import seaborn as sns\n",
    "from scipy.stats import spearmanr\n",
    "import statsmodels.api as sm\n",
    "import plotly.express as px\n",
    "import plotly.graph_objects as go\n",
    "from sklearn.preprocessing import LabelEncoder\n",
    "import country_converter as coco"
   ]
  },
  {
   "cell_type": "code",
   "execution_count": 4,
   "id": "4180c378",
   "metadata": {},
   "outputs": [],
   "source": [
    "#Load the dataset\n",
    "data =pd.read_csv('cost_of_living.csv')"
   ]
  },
  {
   "cell_type": "code",
   "execution_count": 5,
   "id": "0d117dac",
   "metadata": {},
   "outputs": [
    {
     "data": {
      "text/html": [
       "<div>\n",
       "<style scoped>\n",
       "    .dataframe tbody tr th:only-of-type {\n",
       "        vertical-align: middle;\n",
       "    }\n",
       "\n",
       "    .dataframe tbody tr th {\n",
       "        vertical-align: top;\n",
       "    }\n",
       "\n",
       "    .dataframe thead th {\n",
       "        text-align: right;\n",
       "    }\n",
       "</style>\n",
       "<table border=\"1\" class=\"dataframe\">\n",
       "  <thead>\n",
       "    <tr style=\"text-align: right;\">\n",
       "      <th></th>\n",
       "      <th>Countries</th>\n",
       "      <th>Cost of living, 2017</th>\n",
       "      <th>Global rank</th>\n",
       "      <th>Available data</th>\n",
       "    </tr>\n",
       "  </thead>\n",
       "  <tbody>\n",
       "    <tr>\n",
       "      <th>0</th>\n",
       "      <td>Bermuda</td>\n",
       "      <td>225.86</td>\n",
       "      <td>1</td>\n",
       "      <td>2017 - 2017</td>\n",
       "    </tr>\n",
       "    <tr>\n",
       "      <th>1</th>\n",
       "      <td>Iceland</td>\n",
       "      <td>209.10</td>\n",
       "      <td>2</td>\n",
       "      <td>2017 - 2017</td>\n",
       "    </tr>\n",
       "    <tr>\n",
       "      <th>2</th>\n",
       "      <td>Switzerland</td>\n",
       "      <td>197.89</td>\n",
       "      <td>3</td>\n",
       "      <td>2017 - 2017</td>\n",
       "    </tr>\n",
       "    <tr>\n",
       "      <th>3</th>\n",
       "      <td>Norway</td>\n",
       "      <td>186.52</td>\n",
       "      <td>4</td>\n",
       "      <td>2017 - 2017</td>\n",
       "    </tr>\n",
       "    <tr>\n",
       "      <th>4</th>\n",
       "      <td>Denmark</td>\n",
       "      <td>171.78</td>\n",
       "      <td>5</td>\n",
       "      <td>2017 - 2017</td>\n",
       "    </tr>\n",
       "  </tbody>\n",
       "</table>\n",
       "</div>"
      ],
      "text/plain": [
       "     Countries  Cost of living, 2017  Global rank Available data\n",
       "0      Bermuda                225.86            1    2017 - 2017\n",
       "1      Iceland                209.10            2    2017 - 2017\n",
       "2  Switzerland                197.89            3    2017 - 2017\n",
       "3       Norway                186.52            4    2017 - 2017\n",
       "4      Denmark                171.78            5    2017 - 2017"
      ]
     },
     "execution_count": 5,
     "metadata": {},
     "output_type": "execute_result"
    }
   ],
   "source": [
    "data.head()"
   ]
  },
  {
   "cell_type": "code",
   "execution_count": 6,
   "id": "07719f10",
   "metadata": {},
   "outputs": [
    {
     "data": {
      "text/plain": [
       "(167, 4)"
      ]
     },
     "execution_count": 6,
     "metadata": {},
     "output_type": "execute_result"
    }
   ],
   "source": [
    "data.shape"
   ]
  },
  {
   "cell_type": "code",
   "execution_count": 8,
   "id": "f3739f8f",
   "metadata": {},
   "outputs": [
    {
     "data": {
      "text/plain": [
       "Countries                object\n",
       "Cost of living, 2017    float64\n",
       "Global rank               int64\n",
       "Available data           object\n",
       "dtype: object"
      ]
     },
     "execution_count": 8,
     "metadata": {},
     "output_type": "execute_result"
    }
   ],
   "source": [
    "data.dtypes"
   ]
  },
  {
   "cell_type": "code",
   "execution_count": 9,
   "id": "fc9c86aa",
   "metadata": {},
   "outputs": [
    {
     "data": {
      "text/plain": [
       "Countries               0\n",
       "Cost of living, 2017    0\n",
       "Global rank             0\n",
       "Available data          0\n",
       "dtype: int64"
      ]
     },
     "execution_count": 9,
     "metadata": {},
     "output_type": "execute_result"
    }
   ],
   "source": [
    "data.isnull().sum()"
   ]
  },
  {
   "cell_type": "code",
   "execution_count": 16,
   "id": "90591794",
   "metadata": {},
   "outputs": [
    {
     "data": {
      "text/plain": [
       "0    2017 - 2017\n",
       "1    2017 - 2017\n",
       "2    2017 - 2017\n",
       "3    2017 - 2017\n",
       "4    2017 - 2017\n",
       "Name: Available data, dtype: object"
      ]
     },
     "execution_count": 16,
     "metadata": {},
     "output_type": "execute_result"
    }
   ],
   "source": [
    "data['Available data'].head()"
   ]
  },
  {
   "cell_type": "code",
   "execution_count": 17,
   "id": "89cfdfd8",
   "metadata": {},
   "outputs": [
    {
     "name": "stdout",
     "output_type": "stream",
     "text": [
      "     Countries  Cost of living, 2017  Global rank Available data  \\\n",
      "0      Bermuda                225.86            1           2017   \n",
      "1      Iceland                209.10            2           2017   \n",
      "2  Switzerland                197.89            3           2017   \n",
      "3       Norway                186.52            4           2017   \n",
      "4      Denmark                171.78            5           2017   \n",
      "\n",
      "   Cost of living  \n",
      "0          225.86  \n",
      "1          209.10  \n",
      "2          197.89  \n",
      "3          186.52  \n",
      "4          171.78  \n"
     ]
    },
    {
     "name": "stderr",
     "output_type": "stream",
     "text": [
      "C:\\Users\\Akinmegs\\AppData\\Local\\Temp\\ipykernel_8836\\2403736818.py:2: FutureWarning: The default value of regex will change from True to False in a future version.\n",
      "  data['Available data'] = data['Available data'].str.replace(r'\\d{4} - \\d{4}', '2017')\n"
     ]
    }
   ],
   "source": [
    "# Replace the values in the \"Available data\" column with \"2017\"\n",
    "data['Available data'] = data['Available data'].str.replace(r'\\d{4} - \\d{4}', '2017')\n",
    "\n",
    "# Check the resulting DataFrame\n",
    "print(data.head())"
   ]
  },
  {
   "cell_type": "code",
   "execution_count": 18,
   "id": "c2d4c116",
   "metadata": {},
   "outputs": [
    {
     "data": {
      "text/html": [
       "<div>\n",
       "<style scoped>\n",
       "    .dataframe tbody tr th:only-of-type {\n",
       "        vertical-align: middle;\n",
       "    }\n",
       "\n",
       "    .dataframe tbody tr th {\n",
       "        vertical-align: top;\n",
       "    }\n",
       "\n",
       "    .dataframe thead th {\n",
       "        text-align: right;\n",
       "    }\n",
       "</style>\n",
       "<table border=\"1\" class=\"dataframe\">\n",
       "  <thead>\n",
       "    <tr style=\"text-align: right;\">\n",
       "      <th></th>\n",
       "      <th>Countries</th>\n",
       "      <th>Cost of living, 2017</th>\n",
       "      <th>Global rank</th>\n",
       "      <th>Available data</th>\n",
       "      <th>Cost of living</th>\n",
       "    </tr>\n",
       "  </thead>\n",
       "  <tbody>\n",
       "    <tr>\n",
       "      <th>0</th>\n",
       "      <td>Bermuda</td>\n",
       "      <td>225.86</td>\n",
       "      <td>1</td>\n",
       "      <td>2017</td>\n",
       "      <td>225.86</td>\n",
       "    </tr>\n",
       "    <tr>\n",
       "      <th>1</th>\n",
       "      <td>Iceland</td>\n",
       "      <td>209.10</td>\n",
       "      <td>2</td>\n",
       "      <td>2017</td>\n",
       "      <td>209.10</td>\n",
       "    </tr>\n",
       "    <tr>\n",
       "      <th>2</th>\n",
       "      <td>Switzerland</td>\n",
       "      <td>197.89</td>\n",
       "      <td>3</td>\n",
       "      <td>2017</td>\n",
       "      <td>197.89</td>\n",
       "    </tr>\n",
       "    <tr>\n",
       "      <th>3</th>\n",
       "      <td>Norway</td>\n",
       "      <td>186.52</td>\n",
       "      <td>4</td>\n",
       "      <td>2017</td>\n",
       "      <td>186.52</td>\n",
       "    </tr>\n",
       "    <tr>\n",
       "      <th>4</th>\n",
       "      <td>Denmark</td>\n",
       "      <td>171.78</td>\n",
       "      <td>5</td>\n",
       "      <td>2017</td>\n",
       "      <td>171.78</td>\n",
       "    </tr>\n",
       "  </tbody>\n",
       "</table>\n",
       "</div>"
      ],
      "text/plain": [
       "     Countries  Cost of living, 2017  Global rank Available data  \\\n",
       "0      Bermuda                225.86            1           2017   \n",
       "1      Iceland                209.10            2           2017   \n",
       "2  Switzerland                197.89            3           2017   \n",
       "3       Norway                186.52            4           2017   \n",
       "4      Denmark                171.78            5           2017   \n",
       "\n",
       "   Cost of living  \n",
       "0          225.86  \n",
       "1          209.10  \n",
       "2          197.89  \n",
       "3          186.52  \n",
       "4          171.78  "
      ]
     },
     "execution_count": 18,
     "metadata": {},
     "output_type": "execute_result"
    }
   ],
   "source": [
    "data.head()"
   ]
  },
  {
   "cell_type": "code",
   "execution_count": null,
   "id": "46a50799",
   "metadata": {},
   "outputs": [],
   "source": []
  },
  {
   "cell_type": "code",
   "execution_count": null,
   "id": "7aa4ca67",
   "metadata": {},
   "outputs": [],
   "source": []
  },
  {
   "cell_type": "code",
   "execution_count": null,
   "id": "8596a70d",
   "metadata": {},
   "outputs": [],
   "source": []
  },
  {
   "cell_type": "code",
   "execution_count": null,
   "id": "1d32b03e",
   "metadata": {},
   "outputs": [],
   "source": []
  },
  {
   "cell_type": "code",
   "execution_count": null,
   "id": "31dff617",
   "metadata": {},
   "outputs": [],
   "source": []
  }
 ],
 "metadata": {
  "kernelspec": {
   "display_name": "Python 3 (ipykernel)",
   "language": "python",
   "name": "python3"
  },
  "language_info": {
   "codemirror_mode": {
    "name": "ipython",
    "version": 3
   },
   "file_extension": ".py",
   "mimetype": "text/x-python",
   "name": "python",
   "nbconvert_exporter": "python",
   "pygments_lexer": "ipython3",
   "version": "3.11.3"
  }
 },
 "nbformat": 4,
 "nbformat_minor": 5
}
